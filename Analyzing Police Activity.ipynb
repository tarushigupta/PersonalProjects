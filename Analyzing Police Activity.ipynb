{
 "cells": [
  {
   "cell_type": "markdown",
   "metadata": {},
   "source": [
    "### Analyzing Police Data from the Standford Open Policing Project Dataset: for the state of Rhode Island (RI)\n"
   ]
  },
  {
   "cell_type": "markdown",
   "metadata": {},
   "source": [
    "Importing the csv file and exploring the dataset, to also count the number of missing values from various rows."
   ]
  },
  {
   "cell_type": "code",
   "execution_count": 6,
   "metadata": {},
   "outputs": [
    {
     "data": {
      "text/html": [
       "<div>\n",
       "<style scoped>\n",
       "    .dataframe tbody tr th:only-of-type {\n",
       "        vertical-align: middle;\n",
       "    }\n",
       "\n",
       "    .dataframe tbody tr th {\n",
       "        vertical-align: top;\n",
       "    }\n",
       "\n",
       "    .dataframe thead th {\n",
       "        text-align: right;\n",
       "    }\n",
       "</style>\n",
       "<table border=\"1\" class=\"dataframe\">\n",
       "  <thead>\n",
       "    <tr style=\"text-align: right;\">\n",
       "      <th></th>\n",
       "      <th>raw_row_number</th>\n",
       "      <th>stop_date</th>\n",
       "      <th>stop_time</th>\n",
       "      <th>zone</th>\n",
       "      <th>driver_race</th>\n",
       "      <th>driver_sex</th>\n",
       "      <th>department_id</th>\n",
       "      <th>type</th>\n",
       "      <th>is_arrested</th>\n",
       "      <th>citation_issued</th>\n",
       "      <th>...</th>\n",
       "      <th>reason_for_stop</th>\n",
       "      <th>vehicle_make</th>\n",
       "      <th>vehicle_model</th>\n",
       "      <th>raw_BasisForStop</th>\n",
       "      <th>raw_OperatorRace</th>\n",
       "      <th>driver_gender</th>\n",
       "      <th>raw_ResultOfStop</th>\n",
       "      <th>raw_SearchResultOne</th>\n",
       "      <th>raw_SearchResultTwo</th>\n",
       "      <th>raw_SearchResultThree</th>\n",
       "    </tr>\n",
       "  </thead>\n",
       "  <tbody>\n",
       "    <tr>\n",
       "      <th>0</th>\n",
       "      <td>1</td>\n",
       "      <td>22-11-2005</td>\n",
       "      <td>11:15:00</td>\n",
       "      <td>X3</td>\n",
       "      <td>white</td>\n",
       "      <td>male</td>\n",
       "      <td>200</td>\n",
       "      <td>vehicular</td>\n",
       "      <td>False</td>\n",
       "      <td>True</td>\n",
       "      <td>...</td>\n",
       "      <td>Speeding</td>\n",
       "      <td>NaN</td>\n",
       "      <td>NaN</td>\n",
       "      <td>SP</td>\n",
       "      <td>W</td>\n",
       "      <td>M</td>\n",
       "      <td>M</td>\n",
       "      <td>NaN</td>\n",
       "      <td>NaN</td>\n",
       "      <td>NaN</td>\n",
       "    </tr>\n",
       "    <tr>\n",
       "      <th>1</th>\n",
       "      <td>2</td>\n",
       "      <td>01-10-2005</td>\n",
       "      <td>12:20:00</td>\n",
       "      <td>X3</td>\n",
       "      <td>white</td>\n",
       "      <td>male</td>\n",
       "      <td>200</td>\n",
       "      <td>vehicular</td>\n",
       "      <td>False</td>\n",
       "      <td>True</td>\n",
       "      <td>...</td>\n",
       "      <td>Speeding</td>\n",
       "      <td>NaN</td>\n",
       "      <td>NaN</td>\n",
       "      <td>SP</td>\n",
       "      <td>W</td>\n",
       "      <td>M</td>\n",
       "      <td>M</td>\n",
       "      <td>NaN</td>\n",
       "      <td>NaN</td>\n",
       "      <td>NaN</td>\n",
       "    </tr>\n",
       "    <tr>\n",
       "      <th>2</th>\n",
       "      <td>3</td>\n",
       "      <td>01-10-2005</td>\n",
       "      <td>12:30:00</td>\n",
       "      <td>X3</td>\n",
       "      <td>white</td>\n",
       "      <td>female</td>\n",
       "      <td>200</td>\n",
       "      <td>vehicular</td>\n",
       "      <td>False</td>\n",
       "      <td>True</td>\n",
       "      <td>...</td>\n",
       "      <td>Speeding</td>\n",
       "      <td>NaN</td>\n",
       "      <td>NaN</td>\n",
       "      <td>SP</td>\n",
       "      <td>W</td>\n",
       "      <td>F</td>\n",
       "      <td>M</td>\n",
       "      <td>NaN</td>\n",
       "      <td>NaN</td>\n",
       "      <td>NaN</td>\n",
       "    </tr>\n",
       "    <tr>\n",
       "      <th>3</th>\n",
       "      <td>4</td>\n",
       "      <td>01-10-2005</td>\n",
       "      <td>12:50:00</td>\n",
       "      <td>X3</td>\n",
       "      <td>white</td>\n",
       "      <td>male</td>\n",
       "      <td>200</td>\n",
       "      <td>vehicular</td>\n",
       "      <td>False</td>\n",
       "      <td>True</td>\n",
       "      <td>...</td>\n",
       "      <td>Speeding</td>\n",
       "      <td>NaN</td>\n",
       "      <td>NaN</td>\n",
       "      <td>SP</td>\n",
       "      <td>W</td>\n",
       "      <td>M</td>\n",
       "      <td>M</td>\n",
       "      <td>NaN</td>\n",
       "      <td>NaN</td>\n",
       "      <td>NaN</td>\n",
       "    </tr>\n",
       "    <tr>\n",
       "      <th>4</th>\n",
       "      <td>5</td>\n",
       "      <td>01-10-2005</td>\n",
       "      <td>13:10:00</td>\n",
       "      <td>X3</td>\n",
       "      <td>white</td>\n",
       "      <td>female</td>\n",
       "      <td>200</td>\n",
       "      <td>vehicular</td>\n",
       "      <td>False</td>\n",
       "      <td>True</td>\n",
       "      <td>...</td>\n",
       "      <td>Speeding</td>\n",
       "      <td>NaN</td>\n",
       "      <td>NaN</td>\n",
       "      <td>SP</td>\n",
       "      <td>W</td>\n",
       "      <td>F</td>\n",
       "      <td>M</td>\n",
       "      <td>NaN</td>\n",
       "      <td>NaN</td>\n",
       "      <td>NaN</td>\n",
       "    </tr>\n",
       "  </tbody>\n",
       "</table>\n",
       "<p>5 rows × 31 columns</p>\n",
       "</div>"
      ],
      "text/plain": [
       "   raw_row_number   stop_date stop_time zone driver_race driver_sex  \\\n",
       "0               1  22-11-2005  11:15:00   X3       white       male   \n",
       "1               2  01-10-2005  12:20:00   X3       white       male   \n",
       "2               3  01-10-2005  12:30:00   X3       white     female   \n",
       "3               4  01-10-2005  12:50:00   X3       white       male   \n",
       "4               5  01-10-2005  13:10:00   X3       white     female   \n",
       "\n",
       "  department_id       type is_arrested citation_issued  ... reason_for_stop  \\\n",
       "0           200  vehicular       False            True  ...        Speeding   \n",
       "1           200  vehicular       False            True  ...        Speeding   \n",
       "2           200  vehicular       False            True  ...        Speeding   \n",
       "3           200  vehicular       False            True  ...        Speeding   \n",
       "4           200  vehicular       False            True  ...        Speeding   \n",
       "\n",
       "  vehicle_make vehicle_model raw_BasisForStop raw_OperatorRace driver_gender  \\\n",
       "0          NaN           NaN               SP                W             M   \n",
       "1          NaN           NaN               SP                W             M   \n",
       "2          NaN           NaN               SP                W             F   \n",
       "3          NaN           NaN               SP                W             M   \n",
       "4          NaN           NaN               SP                W             F   \n",
       "\n",
       "  raw_ResultOfStop raw_SearchResultOne  raw_SearchResultTwo  \\\n",
       "0                M                 NaN                  NaN   \n",
       "1                M                 NaN                  NaN   \n",
       "2                M                 NaN                  NaN   \n",
       "3                M                 NaN                  NaN   \n",
       "4                M                 NaN                  NaN   \n",
       "\n",
       "  raw_SearchResultThree  \n",
       "0                   NaN  \n",
       "1                   NaN  \n",
       "2                   NaN  \n",
       "3                   NaN  \n",
       "4                   NaN  \n",
       "\n",
       "[5 rows x 31 columns]"
      ]
     },
     "execution_count": 6,
     "metadata": {},
     "output_type": "execute_result"
    }
   ],
   "source": [
    "import pandas as pd\n",
    "ri=pd.read_csv('police_data_RI.csv')\n",
    "ri.head()"
   ]
  },
  {
   "cell_type": "code",
   "execution_count": 7,
   "metadata": {},
   "outputs": [
    {
     "data": {
      "text/plain": [
       "raw_row_number                0\n",
       "stop_date                    10\n",
       "stop_time                    10\n",
       "zone                         10\n",
       "driver_race               29073\n",
       "driver_sex                29097\n",
       "department_id                10\n",
       "type                          0\n",
       "is_arrested               29073\n",
       "citation_issued           29073\n",
       "warning_issued            29073\n",
       "stop_outcome              35841\n",
       "contraband_found         491919\n",
       "contraband_drugs         493693\n",
       "contraband_weapons       497886\n",
       "contraband_alcohol       508464\n",
       "contraband_other         491919\n",
       "frisk_performed              10\n",
       "search_conducted              0\n",
       "search_basis             491919\n",
       "reason_for_search        491919\n",
       "reason_for_stop           29073\n",
       "vehicle_make             191564\n",
       "vehicle_model            279593\n",
       "raw_BasisForStop          29073\n",
       "raw_OperatorRace          29073\n",
       "driver_gender             29073\n",
       "raw_ResultOfStop          29073\n",
       "raw_SearchResultOne      491919\n",
       "raw_SearchResultTwo      508862\n",
       "raw_SearchResultThree    509513\n",
       "dtype: int64"
      ]
     },
     "execution_count": 7,
     "metadata": {},
     "output_type": "execute_result"
    }
   ],
   "source": [
    "# Count the number of missing values in each column\n",
    "ri.isnull().sum()"
   ]
  },
  {
   "cell_type": "code",
   "execution_count": 9,
   "metadata": {},
   "outputs": [],
   "source": [
    "ri.drop(['raw_SearchResultOne','raw_SearchResultTwo','raw_SearchResultThree','raw_row_number','raw_OperatorRace','driver_sex','vehicle_make','vehicle_model'],axis='columns', inplace=True)"
   ]
  },
  {
   "cell_type": "code",
   "execution_count": 10,
   "metadata": {},
   "outputs": [
    {
     "data": {
      "text/plain": [
       "(509681, 23)"
      ]
     },
     "execution_count": 10,
     "metadata": {},
     "output_type": "execute_result"
    }
   ],
   "source": [
    "ri.shape\n"
   ]
  },
  {
   "cell_type": "code",
   "execution_count": 11,
   "metadata": {},
   "outputs": [
    {
     "data": {
      "text/plain": [
       "stop_date                 10\n",
       "stop_time                 10\n",
       "zone                      10\n",
       "driver_race            29073\n",
       "department_id             10\n",
       "type                       0\n",
       "is_arrested            29073\n",
       "citation_issued        29073\n",
       "warning_issued         29073\n",
       "stop_outcome           35841\n",
       "contraband_found      491919\n",
       "contraband_drugs      493693\n",
       "contraband_weapons    497886\n",
       "contraband_alcohol    508464\n",
       "contraband_other      491919\n",
       "frisk_performed           10\n",
       "search_conducted           0\n",
       "search_basis          491919\n",
       "reason_for_search     491919\n",
       "reason_for_stop        29073\n",
       "raw_BasisForStop       29073\n",
       "driver_gender          29073\n",
       "raw_ResultOfStop       29073\n",
       "dtype: int64"
      ]
     },
     "execution_count": 11,
     "metadata": {},
     "output_type": "execute_result"
    }
   ],
   "source": [
    "ri.isnull().sum()"
   ]
  },
  {
   "cell_type": "code",
   "execution_count": 13,
   "metadata": {},
   "outputs": [
    {
     "data": {
      "text/plain": [
       "(480608, 23)"
      ]
     },
     "execution_count": 13,
     "metadata": {},
     "output_type": "execute_result"
    }
   ],
   "source": [
    "#removing all the rows in which the driver gender is unspecified/missing\n",
    "ri.dropna(subset=['driver_gender'],inplace=True)\n",
    "ri.shape"
   ]
  },
  {
   "cell_type": "code",
   "execution_count": 18,
   "metadata": {},
   "outputs": [
    {
     "data": {
      "text/plain": [
       "stop_date             object\n",
       "stop_time             object\n",
       "zone                  object\n",
       "driver_race           object\n",
       "department_id         object\n",
       "type                  object\n",
       "is_arrested           object\n",
       "citation_issued       object\n",
       "warning_issued        object\n",
       "stop_outcome          object\n",
       "contraband_found      object\n",
       "contraband_drugs      object\n",
       "contraband_weapons    object\n",
       "contraband_alcohol    object\n",
       "contraband_other      object\n",
       "frisk_performed       object\n",
       "search_conducted        bool\n",
       "search_basis          object\n",
       "reason_for_search     object\n",
       "reason_for_stop       object\n",
       "raw_BasisForStop      object\n",
       "driver_gender         object\n",
       "raw_ResultOfStop      object\n",
       "dtype: object"
      ]
     },
     "execution_count": 18,
     "metadata": {},
     "output_type": "execute_result"
    }
   ],
   "source": [
    "#checking the datatypes of all the values in the dataframe to ensure they are in the correct format\n",
    "ri.dtypes"
   ]
  },
  {
   "cell_type": "markdown",
   "metadata": {},
   "source": [
    "From the above datatypes description we can see that <br>\n",
    "1. The is_arrested column should have a 'bool' datatype instead of 'object' datatype\n",
    "2. The date and time columns should have datetime datatype for performing operations hindered under the 'object' datatype values\n",
    "3. The gender should be a categorical variable"
   ]
  },
  {
   "cell_type": "code",
   "execution_count": 19,
   "metadata": {},
   "outputs": [
    {
     "data": {
      "text/plain": [
       "0    False\n",
       "1    False\n",
       "2    False\n",
       "3    False\n",
       "4    False\n",
       "Name: is_arrested, dtype: object"
      ]
     },
     "execution_count": 19,
     "metadata": {},
     "output_type": "execute_result"
    }
   ],
   "source": [
    "#check datatype of is_arrested column\n",
    "ri.is_arrested.head()"
   ]
  },
  {
   "cell_type": "markdown",
   "metadata": {},
   "source": [
    "As it is of 'object' datatype but the values are of boolean datatype, we will perform datatype conversion on the is_arrested column"
   ]
  },
  {
   "cell_type": "code",
   "execution_count": 20,
   "metadata": {},
   "outputs": [
    {
     "data": {
      "text/plain": [
       "dtype('bool')"
      ]
     },
     "execution_count": 20,
     "metadata": {},
     "output_type": "execute_result"
    }
   ],
   "source": [
    "ri['is_arrested'] = ri.is_arrested.astype('bool')\n",
    "\n",
    "#check the dtype now\n",
    "ri.is_arrested.dtypes"
   ]
  },
  {
   "cell_type": "markdown",
   "metadata": {},
   "source": [
    "The is_arrested column has been converted.<br>\n",
    "Now, it is time to work on the date and time columns. The two columns will be combined using string operations and then converted to a datetime format in another column 'stop_datetime'. Thi scolumn will then be made as the index of the dataframe to better acces the entries and plotting of the data."
   ]
  },
  {
   "cell_type": "code",
   "execution_count": 22,
   "metadata": {},
   "outputs": [
    {
     "name": "stdout",
     "output_type": "stream",
     "text": [
      "stop_date                     object\n",
      "stop_time                     object\n",
      "zone                          object\n",
      "driver_race                   object\n",
      "department_id                 object\n",
      "type                          object\n",
      "is_arrested                     bool\n",
      "citation_issued               object\n",
      "warning_issued                object\n",
      "stop_outcome                  object\n",
      "contraband_found              object\n",
      "contraband_drugs              object\n",
      "contraband_weapons            object\n",
      "contraband_alcohol            object\n",
      "contraband_other              object\n",
      "frisk_performed               object\n",
      "search_conducted                bool\n",
      "search_basis                  object\n",
      "reason_for_search             object\n",
      "reason_for_stop               object\n",
      "raw_BasisForStop              object\n",
      "driver_gender                 object\n",
      "raw_ResultOfStop              object\n",
      "stop_datetime         datetime64[ns]\n",
      "dtype: object\n"
     ]
    }
   ],
   "source": [
    "combined= ri.stop_date.str.cat(ri.stop_time, sep=\" \")\n",
    "ri['stop_datetime']= pd.to_datetime(combined)\n",
    "\n",
    "#check dtypes of ri dataframe\n",
    "print(ri.dtypes)"
   ]
  },
  {
   "cell_type": "markdown",
   "metadata": {},
   "source": [
    "As we can see the stop_datetime column has been added in the last as datetime64 datatype. Examine this column and then set it as the index."
   ]
  },
  {
   "cell_type": "code",
   "execution_count": 24,
   "metadata": {},
   "outputs": [
    {
     "data": {
      "text/plain": [
       "0   2005-11-22 11:15:00\n",
       "1   2005-01-10 12:20:00\n",
       "2   2005-01-10 12:30:00\n",
       "3   2005-01-10 12:50:00\n",
       "4   2005-01-10 13:10:00\n",
       "Name: stop_datetime, dtype: datetime64[ns]"
      ]
     },
     "execution_count": 24,
     "metadata": {},
     "output_type": "execute_result"
    }
   ],
   "source": [
    "ri['stop_datetime'].head()\n",
    "ri.set_index(['stop_datetime'], inplace=True)\n",
    "#DO NOT RUN THIS BLOCK OR ANY ABOVE IT AGAIN"
   ]
  },
  {
   "cell_type": "code",
   "execution_count": 30,
   "metadata": {},
   "outputs": [
    {
     "name": "stdout",
     "output_type": "stream",
     "text": [
      "DatetimeIndex(['2005-11-22 11:15:00', '2005-01-10 12:20:00',\n",
      "               '2005-01-10 12:30:00', '2005-01-10 12:50:00',\n",
      "               '2005-01-10 13:10:00', '2005-01-10 15:50:00',\n",
      "               '2005-11-09 11:45:00', '2005-11-09 11:45:00',\n",
      "               '2005-04-10 11:55:00', '2005-04-10 11:55:00',\n",
      "               ...\n",
      "               '2015-12-29 13:28:00', '2015-12-27 12:45:00',\n",
      "               '2015-12-27 13:43:00', '2015-12-28 02:29:00',\n",
      "               '2015-12-30 11:42:00', '2015-08-16 13:37:00',\n",
      "               '2015-04-08 10:40:00', '2015-12-20 11:17:00',\n",
      "               '2015-09-11 23:35:00', '2015-10-30 11:09:00'],\n",
      "              dtype='datetime64[ns]', name='stop_datetime', length=480608, freq=None)\n",
      "Index(['stop_date', 'stop_time', 'zone', 'driver_race', 'department_id',\n",
      "       'type', 'is_arrested', 'citation_issued', 'warning_issued',\n",
      "       'stop_outcome', 'contraband_found', 'contraband_drugs',\n",
      "       'contraband_weapons', 'contraband_alcohol', 'contraband_other',\n",
      "       'frisk_performed', 'search_conducted', 'search_basis',\n",
      "       'reason_for_search', 'reason_for_stop', 'raw_BasisForStop',\n",
      "       'driver_gender', 'raw_ResultOfStop'],\n",
      "      dtype='object')\n"
     ]
    }
   ],
   "source": [
    "print(ri.index)\n",
    "print(ri.columns)"
   ]
  },
  {
   "cell_type": "markdown",
   "metadata": {},
   "source": [
    "let's rename the column 'reason_stop' to 'violation' and check for unique values"
   ]
  },
  {
   "cell_type": "code",
   "execution_count": 31,
   "metadata": {},
   "outputs": [
    {
     "name": "stdout",
     "output_type": "stream",
     "text": [
      "Index(['stop_date', 'stop_time', 'zone', 'driver_race', 'department_id',\n",
      "       'type', 'is_arrested', 'citation_issued', 'warning_issued',\n",
      "       'stop_outcome', 'contraband_found', 'contraband_drugs',\n",
      "       'contraband_weapons', 'contraband_alcohol', 'contraband_other',\n",
      "       'frisk_performed', 'search_conducted', 'search_basis',\n",
      "       'reason_for_search', 'violation', 'raw_BasisForStop', 'driver_gender',\n",
      "       'raw_ResultOfStop'],\n",
      "      dtype='object')\n"
     ]
    }
   ],
   "source": [
    "ri.rename(columns={'reason_for_stop':'violation'}, inplace=True)\n",
    "print(ri.columns)"
   ]
  },
  {
   "cell_type": "code",
   "execution_count": 32,
   "metadata": {},
   "outputs": [
    {
     "name": "stdout",
     "output_type": "stream",
     "text": [
      "Speeding                            268744\n",
      "Other Traffic Violation              90234\n",
      "Equipment/Inspection Violation       61252\n",
      "Registration Violation               19830\n",
      "Seatbelt Violation                   16327\n",
      "Special Detail/Directed Patrol       13642\n",
      "Call for Service                      7609\n",
      "Violation of City/Town Ordinance      1036\n",
      "Motorist Assist/Courtesy               990\n",
      "APB                                    485\n",
      "Suspicious Person                      342\n",
      "Warrant                                117\n",
      "Name: violation, dtype: int64\n",
      "Speeding                            0.559175\n",
      "Other Traffic Violation             0.187750\n",
      "Equipment/Inspection Violation      0.127447\n",
      "Registration Violation              0.041260\n",
      "Seatbelt Violation                  0.033972\n",
      "Special Detail/Directed Patrol      0.028385\n",
      "Call for Service                    0.015832\n",
      "Violation of City/Town Ordinance    0.002156\n",
      "Motorist Assist/Courtesy            0.002060\n",
      "APB                                 0.001009\n",
      "Suspicious Person                   0.000712\n",
      "Warrant                             0.000243\n",
      "Name: violation, dtype: float64\n"
     ]
    }
   ],
   "source": [
    "#Count the unique values in 'violation'\n",
    "print(ri.violation.value_counts())\n",
    "\n",
    "# Express the counts as proportions\n",
    "print(ri.violation.value_counts(normalize=True))"
   ]
  },
  {
   "cell_type": "code",
   "execution_count": 33,
   "metadata": {},
   "outputs": [],
   "source": [
    "#COMPARING VIOLATIONS BY GENDER\n",
    "\n",
    "female=ri[ri.driver_gender=='F']\n",
    "male=ri[ri.driver_gender=='M']"
   ]
  },
  {
   "cell_type": "code",
   "execution_count": 35,
   "metadata": {},
   "outputs": [
    {
     "name": "stdout",
     "output_type": "stream",
     "text": [
      "Speeding                            0.657308\n",
      "Other Traffic Violation             0.136581\n",
      "Equipment/Inspection Violation      0.107055\n",
      "Registration Violation              0.043077\n",
      "Seatbelt Violation                  0.027071\n",
      "Call for Service                    0.018057\n",
      "Special Detail/Directed Patrol      0.005071\n",
      "Motorist Assist/Courtesy            0.002532\n",
      "Violation of City/Town Ordinance    0.001647\n",
      "APB                                 0.000831\n",
      "Suspicious Person                   0.000564\n",
      "Warrant                             0.000206\n",
      "Name: violation, dtype: float64\n",
      "Speeding                            0.522364\n",
      "Other Traffic Violation             0.206948\n",
      "Equipment/Inspection Violation      0.135102\n",
      "Registration Violation              0.040581\n",
      "Special Detail/Directed Patrol      0.037136\n",
      "Seatbelt Violation                  0.036555\n",
      "Call for Service                    0.014987\n",
      "Violation of City/Town Ordinance    0.002347\n",
      "Motorist Assist/Courtesy            0.001880\n",
      "APB                                 0.001076\n",
      "Suspicious Person                   0.000767\n",
      "Warrant                             0.000258\n",
      "Name: violation, dtype: float64\n"
     ]
    }
   ],
   "source": [
    "# Compute the violations by female drivers (as proportions)\n",
    "print(female.violation.value_counts(normalize=True))\n",
    "\n",
    "# Compute the violations by male drivers (as proportions)\n",
    "print(male.violation.value_counts(normalize=True))"
   ]
  },
  {
   "cell_type": "markdown",
   "metadata": {},
   "source": [
    "From the above figures, it can be said that female drivers have more violations for speeding over male drivers."
   ]
  },
  {
   "cell_type": "markdown",
   "metadata": {},
   "source": [
    "###### Does gender affect who gets a ticket for speeding?"
   ]
  },
  {
   "cell_type": "markdown",
   "metadata": {},
   "source": [
    "We will be exploring the relationships between the gender an dvarious outcomes under violations to better answer any questions that may arise. We are simply trying to find correlations by adding multiple conditions."
   ]
  },
  {
   "cell_type": "code",
   "execution_count": 36,
   "metadata": {},
   "outputs": [
    {
     "name": "stdout",
     "output_type": "stream",
     "text": [
      "citation    0.954609\n",
      "warning     0.039059\n",
      "arrest      0.006332\n",
      "Name: stop_outcome, dtype: float64\n",
      "citation    0.946763\n",
      "warning     0.036167\n",
      "arrest      0.017070\n",
      "Name: stop_outcome, dtype: float64\n"
     ]
    }
   ],
   "source": [
    "# Create a DataFrame of female drivers stopped for speeding\n",
    "female_and_speeding = ri[(ri.driver_gender=='F') & (ri.violation=='Speeding')]\n",
    "\n",
    "# Create a DataFrame of male drivers stopped for speeding\n",
    "male_and_speeding = ri[(ri.driver_gender=='M') & (ri.violation=='Speeding')]\n",
    "\n",
    "# Compute the stop outcomes for female drivers (as proportions)\n",
    "print(female_and_speeding.stop_outcome.value_counts(normalize=True))\n",
    "\n",
    "# Compute the stop outcomes for male drivers (as proportions)\n",
    "print(male_and_speeding.stop_outcome.value_counts(normalize=True))"
   ]
  },
  {
   "cell_type": "markdown",
   "metadata": {},
   "source": [
    "Interesting! The numbers are similar for males and females: about 95% of stops for speeding result in a ticket. Thus, the data fails to show that gender has an impact on who gets a ticket for speeding."
   ]
  },
  {
   "cell_type": "markdown",
   "metadata": {},
   "source": [
    "###### Does gender affect whose vehicle is searched?"
   ]
  },
  {
   "cell_type": "code",
   "execution_count": 37,
   "metadata": {},
   "outputs": [
    {
     "name": "stdout",
     "output_type": "stream",
     "text": [
      "bool\n",
      "False    0.963043\n",
      "True     0.036957\n",
      "Name: search_conducted, dtype: float64\n",
      "0.03695735401824356\n"
     ]
    }
   ],
   "source": [
    "#Calculating the search rate\n",
    "\n",
    "# Check the data type of 'search_conducted'\n",
    "print(ri.search_conducted.dtypes)\n",
    "\n",
    "# Calculate the search rate by counting the values\n",
    "print(ri.search_conducted.value_counts(normalize=True))\n",
    "\n",
    "# Calculate the search rate by taking the mean\n",
    "print(ri.search_conducted.mean())"
   ]
  },
  {
   "cell_type": "markdown",
   "metadata": {},
   "source": [
    "The mean of search_conducted should and is matching the True values for search_conducted.\n",
    "<br> From the results, it can be seen that the search rate is almost 3.7%"
   ]
  },
  {
   "cell_type": "code",
   "execution_count": 38,
   "metadata": {},
   "outputs": [
    {
     "name": "stdout",
     "output_type": "stream",
     "text": [
      "0.018751239152648355\n"
     ]
    }
   ],
   "source": [
    "# Calculate the search rate for female drivers\n",
    "print(ri[ri.driver_gender=='F'].search_conducted.mean())"
   ]
  },
  {
   "cell_type": "code",
   "execution_count": 39,
   "metadata": {},
   "outputs": [
    {
     "name": "stdout",
     "output_type": "stream",
     "text": [
      "0.04379217389811301\n"
     ]
    }
   ],
   "source": [
    "# Calculate the search rate for male drivers\n",
    "print(ri[ri.driver_gender=='M'].search_conducted.mean())"
   ]
  },
  {
   "cell_type": "code",
   "execution_count": 40,
   "metadata": {},
   "outputs": [
    {
     "name": "stdout",
     "output_type": "stream",
     "text": [
      "driver_gender\n",
      "F    0.018751\n",
      "M    0.043792\n",
      "N    0.000000\n",
      "U    0.000000\n",
      "Name: search_conducted, dtype: float64\n"
     ]
    }
   ],
   "source": [
    "# Calculate the search rate for both groups simultaneously (It should match the previous results.)\n",
    "print(ri.groupby(ri.driver_gender).search_conducted.mean())"
   ]
  },
  {
   "cell_type": "markdown",
   "metadata": {},
   "source": [
    "Male drivers are searched more than twice as often as female drivers."
   ]
  },
  {
   "cell_type": "markdown",
   "metadata": {},
   "source": [
    "###### Adding a second factor to the analysis\n",
    "Even though the search rate for males is much higher than for females, it's possible that the difference is mostly due to a second factor.<br>\n",
    "\n",
    "For example, you might hypothesize that the search rate varies by violation type, and the difference in search rate between males and females is because they tend to commit different violations.<br>\n",
    "\n",
    "You can test this hypothesis by examining the search rate for each combination of gender and violation. If the hypothesis was true, you would find that males and females are searched at about the same rate for each violation. Find out below if that's the case!"
   ]
  },
  {
   "cell_type": "code",
   "execution_count": 42,
   "metadata": {
    "scrolled": true
   },
   "outputs": [
    {
     "name": "stdout",
     "output_type": "stream",
     "text": [
      "driver_gender  violation                       \n",
      "F              APB                                 0.165138\n",
      "               Call for Service                    0.042230\n",
      "               Equipment/Inspection Violation      0.040245\n",
      "               Motorist Assist/Courtesy            0.033133\n",
      "               Other Traffic Violation             0.038021\n",
      "               Registration Violation              0.054700\n",
      "               Seatbelt Violation                  0.017746\n",
      "               Special Detail/Directed Patrol      0.018045\n",
      "               Speeding                            0.007738\n",
      "               Suspicious Person                   0.216216\n",
      "               Violation of City/Town Ordinance    0.060185\n",
      "               Warrant                             0.148148\n",
      "M              APB                                 0.255319\n",
      "               Call for Service                    0.092419\n",
      "               Equipment/Inspection Violation      0.070916\n",
      "               Motorist Assist/Courtesy            0.089802\n",
      "               Other Traffic Violation             0.059156\n",
      "               Registration Violation              0.103589\n",
      "               Seatbelt Violation                  0.031705\n",
      "               Special Detail/Directed Patrol      0.010249\n",
      "               Speeding                            0.026630\n",
      "               Suspicious Person                   0.305970\n",
      "               Violation of City/Town Ordinance    0.073171\n",
      "               Warrant                             0.311111\n",
      "N              Call for Service                    0.000000\n",
      "U              Call for Service                    0.000000\n",
      "               Equipment/Inspection Violation      0.000000\n",
      "               Motorist Assist/Courtesy            0.000000\n",
      "               Other Traffic Violation             0.000000\n",
      "               Seatbelt Violation                  0.000000\n",
      "               Speeding                            0.000000\n",
      "Name: search_conducted, dtype: float64\n"
     ]
    }
   ],
   "source": [
    "# Calculate the search rate for each combination of gender and violation\n",
    "print(ri.groupby(['driver_gender','violation']).search_conducted.mean())"
   ]
  },
  {
   "cell_type": "code",
   "execution_count": 43,
   "metadata": {},
   "outputs": [
    {
     "name": "stdout",
     "output_type": "stream",
     "text": [
      "violation                         driver_gender\n",
      "APB                               F                0.165138\n",
      "                                  M                0.255319\n",
      "Call for Service                  F                0.042230\n",
      "                                  M                0.092419\n",
      "                                  N                0.000000\n",
      "                                  U                0.000000\n",
      "Equipment/Inspection Violation    F                0.040245\n",
      "                                  M                0.070916\n",
      "                                  U                0.000000\n",
      "Motorist Assist/Courtesy          F                0.033133\n",
      "                                  M                0.089802\n",
      "                                  U                0.000000\n",
      "Other Traffic Violation           F                0.038021\n",
      "                                  M                0.059156\n",
      "                                  U                0.000000\n",
      "Registration Violation            F                0.054700\n",
      "                                  M                0.103589\n",
      "Seatbelt Violation                F                0.017746\n",
      "                                  M                0.031705\n",
      "                                  U                0.000000\n",
      "Special Detail/Directed Patrol    F                0.018045\n",
      "                                  M                0.010249\n",
      "Speeding                          F                0.007738\n",
      "                                  M                0.026630\n",
      "                                  U                0.000000\n",
      "Suspicious Person                 F                0.216216\n",
      "                                  M                0.305970\n",
      "Violation of City/Town Ordinance  F                0.060185\n",
      "                                  M                0.073171\n",
      "Warrant                           F                0.148148\n",
      "                                  M                0.311111\n",
      "Name: search_conducted, dtype: float64\n"
     ]
    }
   ],
   "source": [
    "# Reverse the ordering to group by violation before gender\n",
    "print(ri.groupby(['violation','driver_gender']).search_conducted.mean())"
   ]
  },
  {
   "cell_type": "markdown",
   "metadata": {},
   "source": [
    "###### Does gender affect who is frisked during a search?"
   ]
  },
  {
   "cell_type": "markdown",
   "metadata": {},
   "source": [
    "During a vehicle search, the police officer may pat down the driver to check if they have a weapon. This is known as a \"protective frisk.\"\n",
    "We'll first check if \"Protective Frisk\" was the only search type and then, using the string mehtod we will locate all instances in which the driver was frisked"
   ]
  },
  {
   "cell_type": "code",
   "execution_count": 48,
   "metadata": {},
   "outputs": [
    {
     "name": "stdout",
     "output_type": "stream",
     "text": [
      "Incident to Arrest                                               6998\n",
      "Probable Cause                                                   2063\n",
      "Odor of Drugs/Alcohol                                            1872\n",
      "Reasonable Suspicion                                             1141\n",
      "Inventory/Tow                                                    1101\n",
      "Terry Frisk                                                       879\n",
      "Incident to Arrest|Inventory/Tow                                  582\n",
      "Plain View                                                        425\n",
      "Odor of Drugs/Alcohol|Probable Cause                              153\n",
      "Probable Cause|Odor of Drugs/Alcohol                              145\n",
      "Incident to Arrest|Odor of Drugs/Alcohol                          123\n",
      "Incident to Arrest|Terry Frisk                                    102\n",
      "Incident to Arrest|Probable Cause                                 100\n",
      "Odor of Drugs/Alcohol|Incident to Arrest                           96\n",
      "Odor of Drugs/Alcohol|Plain View                                   95\n",
      "Odor of Drugs/Alcohol|Reasonable Suspicion                         84\n",
      "Probable Cause|Incident to Arrest                                  81\n",
      "Plain View|Odor of Drugs/Alcohol                                   76\n",
      "Reasonable Suspicion|Probable Cause                                68\n",
      "Probable Cause|Terry Frisk                                         67\n",
      "Inventory/Tow|Incident to Arrest                                   67\n",
      "Terry Frisk|Incident to Arrest                                     56\n",
      "Terry Frisk|Probable Cause                                         50\n",
      "Incident to Arrest|Odor of Drugs/Alcohol|Inventory/Tow             48\n",
      "Probable Cause|Reasonable Suspicion                                48\n",
      "Incident to Arrest|Terry Frisk|Inventory/Tow                       47\n",
      "Reasonable Suspicion|Terry Frisk                                   45\n",
      "Terry Frisk|Reasonable Suspicion                                   38\n",
      "Probable Cause|Plain View                                          38\n",
      "Reasonable Suspicion|Odor of Drugs/Alcohol                         31\n",
      "                                                                 ... \n",
      "Terry Frisk|Plain View|Odor of Drugs/Alcohol                        1\n",
      "Odor of Drugs/Alcohol|Reasonable Suspicion|Inventory/Tow            1\n",
      "Inventory/Tow|Odor of Drugs/Alcohol|Incident to Arrest              1\n",
      "Reasonable Suspicion|Plain View|Terry Frisk                         1\n",
      "Reasonable Suspicion|Odor of Drugs/Alcohol|Plain View               1\n",
      "Inventory/Tow|Odor of Drugs/Alcohol|Reasonable Suspicion            1\n",
      "Reasonable Suspicion|Odor of Drugs/Alcohol|Inventory/Tow            1\n",
      "Reasonable Suspicion|Inventory/Tow|Odor of Drugs/Alcohol            1\n",
      "Odor of Drugs/Alcohol|Incident to Arrest|Terry Frisk                1\n",
      "Terry Frisk|Odor of Drugs/Alcohol|Inventory/Tow                     1\n",
      "Terry Frisk|Incident to Arrest|Odor of Drugs/Alcohol                1\n",
      "Odor of Drugs/Alcohol|Inventory/Tow|Reasonable Suspicion            1\n",
      "Inventory/Tow|Probable Cause|Reasonable Suspicion                   1\n",
      "Incident to Arrest|Reasonable Suspicion|Probable Cause              1\n",
      "Plain View|Incident to Arrest|Terry Frisk                           1\n",
      "Terry Frisk|Plain View|Incident to Arrest                           1\n",
      "Probable Cause|Inventory/Tow|Incident to Arrest                     1\n",
      "Inventory/Tow|Odor of Drugs/Alcohol|Plain View                      1\n",
      "Inventory/Tow|Odor of Drugs/Alcohol|Probable Cause                  1\n",
      "Plain View|Probable Cause|Inventory/Tow                             1\n",
      "Plain View|Terry Frisk|Odor of Drugs/Alcohol                        1\n",
      "Plain View|Reasonable Suspicion|Odor of Drugs/Alcohol               1\n",
      "Incident to Arrest|Terry Frisk|Plain View                           1\n",
      "Inventory/Tow|Plain View|Probable Cause                             1\n",
      "Plain View|Terry Frisk|Probable Cause                               1\n",
      "Terry Frisk|Reasonable Suspicion|Odor of Drugs/Alcohol              1\n",
      "Reasonable Suspicion|Probable Cause|Terry Frisk                     1\n",
      "Reasonable Suspicion|Incident to Arrest|Odor of Drugs/Alcohol       1\n",
      "Reasonable Suspicion|Incident to Arrest|Probable Cause              1\n",
      "Plain View|Reasonable Suspicion|Terry Frisk                         1\n",
      "Name: reason_for_search, Length: 188, dtype: int64\n",
      "bool\n",
      "1598\n"
     ]
    }
   ],
   "source": [
    "# Count the 'search_type' values\n",
    "print(ri.reason_for_search.value_counts())\n",
    "\n",
    "# Check if 'search_type' contains the string 'Protective Frisk'\n",
    "ri['frisk'] = ri.reason_for_search.str.contains('Terry Frisk', na=False)\n",
    "\n",
    "# Check the data type of 'frisk'\n",
    "print(ri['frisk'].dtypes)\n",
    "\n",
    "# Take the sum of 'frisk'\n",
    "print(ri['frisk'].sum())"
   ]
  },
  {
   "cell_type": "code",
   "execution_count": 49,
   "metadata": {},
   "outputs": [
    {
     "name": "stdout",
     "output_type": "stream",
     "text": [
      "0.08996734601959239\n",
      "driver_gender\n",
      "F    0.066694\n",
      "M    0.093707\n",
      "Name: frisk, dtype: float64\n"
     ]
    }
   ],
   "source": [
    "#Comparing frisk rates by gender\n",
    "\n",
    "# Create a DataFrame of stops in which a search was conducted\n",
    "searched = ri[ri.search_conducted == True]\n",
    "\n",
    "# Calculate the overall frisk rate by taking the mean of 'frisk'\n",
    "print(searched.frisk.mean())\n",
    "\n",
    "# Calculate the frisk rate for each gender\n",
    "print(searched.groupby('driver_gender').frisk.mean())\n"
   ]
  },
  {
   "cell_type": "markdown",
   "metadata": {},
   "source": [
    "The frisk rate is higher for males than for females, though we can't conclude that this difference is caused by the driver's gender."
   ]
  },
  {
   "cell_type": "markdown",
   "metadata": {},
   "source": [
    "###### Does time of day affect arrest date?"
   ]
  },
  {
   "cell_type": "markdown",
   "metadata": {},
   "source": [
    "It is easier to analyze this using plots rather than figures. "
   ]
  },
  {
   "cell_type": "markdown",
   "metadata": {},
   "source": [
    "First, we'll calculate the arrest rate across all stops. Then, you'll calculate the hourly arrest rate by using the hour attribute of the index. The hour ranges from 0 to 23, in which:\n",
    "\n",
    "0 = midnight<br>\n",
    "12 = noon<br>\n",
    "23 = 11 PM<br>"
   ]
  },
  {
   "cell_type": "code",
   "execution_count": 50,
   "metadata": {
    "scrolled": true
   },
   "outputs": [
    {
     "name": "stdout",
     "output_type": "stream",
     "text": [
      "0.034545825287968575\n",
      "stop_datetime\n",
      "0     0.052142\n",
      "1     0.067121\n",
      "2     0.061063\n",
      "3     0.052604\n",
      "4     0.053897\n",
      "5     0.032657\n",
      "6     0.012948\n",
      "7     0.013829\n",
      "8     0.019714\n",
      "9     0.024698\n",
      "10    0.025582\n",
      "11    0.027078\n",
      "12    0.031359\n",
      "13    0.030248\n",
      "14    0.031529\n",
      "15    0.032124\n",
      "16    0.033519\n",
      "17    0.038989\n",
      "18    0.039898\n",
      "19    0.031366\n",
      "20    0.039292\n",
      "21    0.059956\n",
      "22    0.043980\n",
      "23    0.045084\n",
      "Name: is_arrested, dtype: float64\n"
     ]
    }
   ],
   "source": [
    "#Calculating the hourly arrest rate\n",
    "\n",
    "\n",
    "# Calculate the overall arrest rate\n",
    "print(ri.is_arrested.mean())\n",
    "\n",
    "# Calculate the hourly arrest rate\n",
    "print(ri.groupby(ri.index.hour).is_arrested.mean())\n",
    "\n",
    "# Save the hourly arrest rate\n",
    "hourly_arrest_rate = ri.groupby(ri.index.hour).is_arrested.mean()"
   ]
  },
  {
   "cell_type": "code",
   "execution_count": 52,
   "metadata": {},
   "outputs": [
    {
     "data": {
      "image/png": "[encoded data removed]",
      "text/plain": [
       "<Figure size 432x288 with 1 Axes>"
      ]
     },
     "metadata": {
      "needs_background": "light"
     },
     "output_type": "display_data"
    }
   ],
   "source": [
    "#Plotting the hourly arrest rate\n",
    "\n",
    "# Import matplotlib.pyplot as plt\n",
    "import matplotlib.pyplot as plt\n",
    "\n",
    "# Create a line plot of 'hourly_arrest_rate'\n",
    "hourly_arrest_rate.plot(kind='line')\n",
    "\n",
    "# Add the xlabel, ylabel, and title\n",
    "plt.xlabel('Hour')\n",
    "plt.ylabel('Arrest Rate')\n",
    "plt.title('Arrest Rate by Time of Day')\n",
    "\n",
    "# Display the plot\n",
    "plt.show()"
   ]
  },
  {
   "cell_type": "markdown",
   "metadata": {},
   "source": [
    "###### What violations are caught in each zone?"
   ]
  },
  {
   "cell_type": "markdown",
   "metadata": {},
   "source": [
    "###### Tallying violations by district\n",
    "The state of Rhode Island is broken into six police districts, also known as zones. <br>\n",
    "We'll create a frequency table to determine how many violations of each type took place in each of the six zones. Then, we'll filter the table to focus on the \"K\" zones."
   ]
  },
  {
   "cell_type": "code",
   "execution_count": 81,
   "metadata": {
    "scrolled": false
   },
   "outputs": [
    {
     "name": "stdout",
     "output_type": "stream",
     "text": [
      "violation  APB  Call for Service  Equipment/Inspection Violation  \\\n",
      "zone                                                               \n",
      "K1          32               282                            3788   \n",
      "K2         101              1036                           11285   \n",
      "K3         144              1230                           12959   \n",
      "X1           6               198                            1725   \n",
      "X3          64              1328                           11520   \n",
      "X4         138              3535                           19975   \n",
      "\n",
      "violation  Motorist Assist/Courtesy  Other Traffic Violation  \\\n",
      "zone                                                           \n",
      "K1                               78                     7130   \n",
      "K2                              118                    16440   \n",
      "K3                              258                    16218   \n",
      "X1                               33                     3711   \n",
      "X3                              324                    17179   \n",
      "X4                              179                    29556   \n",
      "\n",
      "violation  Registration Violation  Seatbelt Violation  \\\n",
      "zone                                                    \n",
      "K1                            628                   1   \n",
      "K2                           4056                2898   \n",
      "K3                           3871                3660   \n",
      "X1                            192                 451   \n",
      "X3                           3532                4446   \n",
      "X4                           7551                4871   \n",
      "\n",
      "violation  Special Detail/Directed Patrol  Speeding  Suspicious Person  \\\n",
      "zone                                                                     \n",
      "K1                                   1009     33068                 72   \n",
      "K2                                   3539     57500                 59   \n",
      "K3                                   2011     68238                 68   \n",
      "X1                                    503      6393                  5   \n",
      "X3                                   1996     48690                 41   \n",
      "X4                                   4584     54855                 97   \n",
      "\n",
      "violation  Violation of City/Town Ordinance  Warrant  \n",
      "zone                                                  \n",
      "K1                                       21        8  \n",
      "K2                                      237       13  \n",
      "K3                                      194       24  \n",
      "X1                                        6        1  \n",
      "X3                                      282       35  \n",
      "X4                                      296       36  \n",
      "violation  APB  Call for Service  Equipment/Inspection Violation  \\\n",
      "zone                                                               \n",
      "K1          32               282                            3788   \n",
      "K2         101              1036                           11285   \n",
      "K3         144              1230                           12959   \n",
      "\n",
      "violation  Motorist Assist/Courtesy  Other Traffic Violation  \\\n",
      "zone                                                           \n",
      "K1                               78                     7130   \n",
      "K2                              118                    16440   \n",
      "K3                              258                    16218   \n",
      "\n",
      "violation  Registration Violation  Seatbelt Violation  \\\n",
      "zone                                                    \n",
      "K1                            628                   1   \n",
      "K2                           4056                2898   \n",
      "K3                           3871                3660   \n",
      "\n",
      "violation  Special Detail/Directed Patrol  Speeding  Suspicious Person  \\\n",
      "zone                                                                     \n",
      "K1                                   1009     33068                 72   \n",
      "K2                                   3539     57500                 59   \n",
      "K3                                   2011     68238                 68   \n",
      "\n",
      "violation  Violation of City/Town Ordinance  Warrant  \n",
      "zone                                                  \n",
      "K1                                       21        8  \n",
      "K2                                      237       13  \n",
      "K3                                      194       24  \n"
     ]
    }
   ],
   "source": [
    "# Create a frequency table of districts and violations\n",
    "print(pd.crosstab(ri.zone, ri.violation))\n",
    "\n",
    "# Save the frequency table as 'all_zones'\n",
    "all_zones = pd.crosstab(ri.zone, ri.violation)\n",
    "\n",
    "# Select rows 'Zone K1' through 'Zone K3'\n",
    "print(all_zones.loc['K1':'K3'])\n",
    "\n",
    "# Save the smaller table as 'k_zones'\n",
    "k_zones = all_zones.loc['K1':'K3']"
   ]
  },
  {
   "cell_type": "markdown",
   "metadata": {},
   "source": [
    "###### Plotting violations by district\n",
    "We've created a frequency table focused on the \"K\" zones, and will visualize the data to compare what violations are being caught in each zone.\n",
    "\n",
    "We'll create a bar plot, which is an appropriate plot type since we're comparing categorical data. Then we'll also create a stacked bar plot in order to get a slightly different look at the data."
   ]
  },
  {
   "cell_type": "code",
   "execution_count": 89,
   "metadata": {},
   "outputs": [
    {
     "data": {
      "image/png": "[encoded data removed]",
      "text/plain": [
       "<Figure size 720x720 with 1 Axes>"
      ]
     },
     "metadata": {
      "needs_background": "light"
     },
     "output_type": "display_data"
    }
   ],
   "source": [
    "# Create a bar plot of 'k_zones'\n",
    "k_zones.plot(kind='bar',figsize=(10,10))\n",
    "\n",
    "# Display the plot\n",
    "plt.show()"
   ]
  },
  {
   "cell_type": "code",
   "execution_count": 90,
   "metadata": {},
   "outputs": [
    {
     "data": {
      "image/png": "[encoded data removed]",
      "text/plain": [
       "<Figure size 720x720 with 1 Axes>"
      ]
     },
     "metadata": {
      "needs_background": "light"
     },
     "output_type": "display_data"
    }
   ],
   "source": [
    "# Create a stacked bar plot of 'k_zones'\n",
    "k_zones.plot(kind='bar', stacked=True,figsize=(10,10))\n",
    "\n",
    "# Display the plot\n",
    "plt.show()"
   ]
  },
  {
   "cell_type": "markdown",
   "metadata": {},
   "source": [
    "The vast majority of traffic stops in Zone K1 are for speeding, and Zones K2 and K3 are remarkably similar to one another in terms of violations."
   ]
  }
 ],
 "metadata": {
  "kernelspec": {
   "display_name": "Python 3",
   "language": "python",
   "name": "python3"
  },
  "language_info": {
   "codemirror_mode": {
    "name": "ipython",
    "version": 3
   },
   "file_extension": ".py",
   "mimetype": "text/x-python",
   "name": "python",
   "nbconvert_exporter": "python",
   "pygments_lexer": "ipython3",
   "version": "3.7.3"
  }
 },
 "nbformat": 4,
 "nbformat_minor": 2
}
