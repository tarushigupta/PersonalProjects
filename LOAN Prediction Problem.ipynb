{
 "cells": [
  {
   "cell_type": "markdown",
   "metadata": {},
   "source": [
    "## Problem Statement\n",
    "\n",
    "Dream Housing Finance company deals in all home loans. They have presence across all urban, semi urban and rural areas. Customer first apply for home loan after that company validates the customer eligibility for loan. Company wants to automate the loan eligibility process (real time) based on customer detail provided while filling online application form. These details are Gender, Marital Status, Education, Number of Dependents, Income, Loan Amount, Credit History and others. To automate this process, they have given a problem to identify the customers segments, those are eligible for loan amount so that they can specifically target these customers."
   ]
  },
  {
   "cell_type": "markdown",
   "metadata": {},
   "source": [
    "Importing packages"
   ]
  },
  {
   "cell_type": "code",
   "execution_count": 5,
   "metadata": {},
   "outputs": [],
   "source": [
    "import pandas as pd\n",
    "import numpy as np\n",
    "import matplotlib.pyplot as plt\n",
    "%matplotlib inline\n",
    "import seaborn as sns\n",
    "import warnings\n",
    "warnings.filterwarnings(\"ignore\")"
   ]
  },
  {
   "cell_type": "markdown",
   "metadata": {},
   "source": [
    "Reading the Data\n",
    "1. Train Data - for training the model. It contains all the independent variables and the target variable.\n",
    "2. Test Data - for testing the model. We will apply the model to predict the target variable for the test data."
   ]
  },
  {
   "cell_type": "code",
   "execution_count": 7,
   "metadata": {},
   "outputs": [],
   "source": [
    "train = pd.read_csv(\"train_ctrUa4K.csv\")\n",
    "test = pd.read_csv(\"test_lAUu6dG.csv\")"
   ]
  },
  {
   "cell_type": "markdown",
   "metadata": {},
   "source": [
    "Let's make copies of our original datasets so as to not make any changes in them accidentally"
   ]
  },
  {
   "cell_type": "code",
   "execution_count": 8,
   "metadata": {},
   "outputs": [],
   "source": [
    "train_original = train.copy()\n",
    "test_original = test.copy()"
   ]
  },
  {
   "cell_type": "markdown",
   "metadata": {},
   "source": [
    "Exploring the data - type of data and variables provided in the dataset"
   ]
  },
  {
   "cell_type": "code",
   "execution_count": 9,
   "metadata": {},
   "outputs": [
    {
     "name": "stdout",
     "output_type": "stream",
     "text": [
      "Index(['Loan_ID', 'Gender', 'Married', 'Dependents', 'Education',\n",
      "       'Self_Employed', 'ApplicantIncome', 'CoapplicantIncome', 'LoanAmount',\n",
      "       'Loan_Amount_Term', 'Credit_History', 'Property_Area', 'Loan_Status'],\n",
      "      dtype='object')\n",
      "Index(['Loan_ID', 'Gender', 'Married', 'Dependents', 'Education',\n",
      "       'Self_Employed', 'ApplicantIncome', 'CoapplicantIncome', 'LoanAmount',\n",
      "       'Loan_Amount_Term', 'Credit_History', 'Property_Area'],\n",
      "      dtype='object')\n"
     ]
    }
   ],
   "source": [
    "print(train.columns)\n",
    "print(test.columns)"
   ]
  },
  {
   "cell_type": "markdown",
   "metadata": {},
   "source": [
    "The format of both the train and test data is the same. There are 12 independent variables and 1 target variable, i.e. Loan_Status in the train dataset. Test data has the same 12 independent variable except for the target variable Loan_Status as we have to predict that using our model on the test data. Let's print the variable types."
   ]
  },
  {
   "cell_type": "code",
   "execution_count": 10,
   "metadata": {},
   "outputs": [
    {
     "name": "stdout",
     "output_type": "stream",
     "text": [
      "Loan_ID               object\n",
      "Gender                object\n",
      "Married               object\n",
      "Dependents            object\n",
      "Education             object\n",
      "Self_Employed         object\n",
      "ApplicantIncome        int64\n",
      "CoapplicantIncome    float64\n",
      "LoanAmount           float64\n",
      "Loan_Amount_Term     float64\n",
      "Credit_History       float64\n",
      "Property_Area         object\n",
      "Loan_Status           object\n",
      "dtype: object\n",
      "(614, 13)\n"
     ]
    }
   ],
   "source": [
    "print(train.dtypes)\n",
    "print(train.shape) #gives us the size of our train dataset"
   ]
  },
  {
   "cell_type": "markdown",
   "metadata": {},
   "source": [
    "Print the head of the dataset to see if the variable types match the type of data entry into each column."
   ]
  },
  {
   "cell_type": "code",
   "execution_count": 11,
   "metadata": {},
   "outputs": [
    {
     "data": {
      "text/html": [
       "<div>\n",
       "<style scoped>\n",
       "    .dataframe tbody tr th:only-of-type {\n",
       "        vertical-align: middle;\n",
       "    }\n",
       "\n",
       "    .dataframe tbody tr th {\n",
       "        vertical-align: top;\n",
       "    }\n",
       "\n",
       "    .dataframe thead th {\n",
       "        text-align: right;\n",
       "    }\n",
       "</style>\n",
       "<table border=\"1\" class=\"dataframe\">\n",
       "  <thead>\n",
       "    <tr style=\"text-align: right;\">\n",
       "      <th></th>\n",
       "      <th>Loan_ID</th>\n",
       "      <th>Gender</th>\n",
       "      <th>Married</th>\n",
       "      <th>Dependents</th>\n",
       "      <th>Education</th>\n",
       "      <th>Self_Employed</th>\n",
       "      <th>ApplicantIncome</th>\n",
       "      <th>CoapplicantIncome</th>\n",
       "      <th>LoanAmount</th>\n",
       "      <th>Loan_Amount_Term</th>\n",
       "      <th>Credit_History</th>\n",
       "      <th>Property_Area</th>\n",
       "      <th>Loan_Status</th>\n",
       "    </tr>\n",
       "  </thead>\n",
       "  <tbody>\n",
       "    <tr>\n",
       "      <th>0</th>\n",
       "      <td>LP001002</td>\n",
       "      <td>Male</td>\n",
       "      <td>No</td>\n",
       "      <td>0</td>\n",
       "      <td>Graduate</td>\n",
       "      <td>No</td>\n",
       "      <td>5849</td>\n",
       "      <td>0.0</td>\n",
       "      <td>NaN</td>\n",
       "      <td>360.0</td>\n",
       "      <td>1.0</td>\n",
       "      <td>Urban</td>\n",
       "      <td>Y</td>\n",
       "    </tr>\n",
       "    <tr>\n",
       "      <th>1</th>\n",
       "      <td>LP001003</td>\n",
       "      <td>Male</td>\n",
       "      <td>Yes</td>\n",
       "      <td>1</td>\n",
       "      <td>Graduate</td>\n",
       "      <td>No</td>\n",
       "      <td>4583</td>\n",
       "      <td>1508.0</td>\n",
       "      <td>128.0</td>\n",
       "      <td>360.0</td>\n",
       "      <td>1.0</td>\n",
       "      <td>Rural</td>\n",
       "      <td>N</td>\n",
       "    </tr>\n",
       "    <tr>\n",
       "      <th>2</th>\n",
       "      <td>LP001005</td>\n",
       "      <td>Male</td>\n",
       "      <td>Yes</td>\n",
       "      <td>0</td>\n",
       "      <td>Graduate</td>\n",
       "      <td>Yes</td>\n",
       "      <td>3000</td>\n",
       "      <td>0.0</td>\n",
       "      <td>66.0</td>\n",
       "      <td>360.0</td>\n",
       "      <td>1.0</td>\n",
       "      <td>Urban</td>\n",
       "      <td>Y</td>\n",
       "    </tr>\n",
       "    <tr>\n",
       "      <th>3</th>\n",
       "      <td>LP001006</td>\n",
       "      <td>Male</td>\n",
       "      <td>Yes</td>\n",
       "      <td>0</td>\n",
       "      <td>Not Graduate</td>\n",
       "      <td>No</td>\n",
       "      <td>2583</td>\n",
       "      <td>2358.0</td>\n",
       "      <td>120.0</td>\n",
       "      <td>360.0</td>\n",
       "      <td>1.0</td>\n",
       "      <td>Urban</td>\n",
       "      <td>Y</td>\n",
       "    </tr>\n",
       "    <tr>\n",
       "      <th>4</th>\n",
       "      <td>LP001008</td>\n",
       "      <td>Male</td>\n",
       "      <td>No</td>\n",
       "      <td>0</td>\n",
       "      <td>Graduate</td>\n",
       "      <td>No</td>\n",
       "      <td>6000</td>\n",
       "      <td>0.0</td>\n",
       "      <td>141.0</td>\n",
       "      <td>360.0</td>\n",
       "      <td>1.0</td>\n",
       "      <td>Urban</td>\n",
       "      <td>Y</td>\n",
       "    </tr>\n",
       "  </tbody>\n",
       "</table>\n",
       "</div>"
      ],
      "text/plain": [
       "    Loan_ID Gender Married Dependents     Education Self_Employed  \\\n",
       "0  LP001002   Male      No          0      Graduate            No   \n",
       "1  LP001003   Male     Yes          1      Graduate            No   \n",
       "2  LP001005   Male     Yes          0      Graduate           Yes   \n",
       "3  LP001006   Male     Yes          0  Not Graduate            No   \n",
       "4  LP001008   Male      No          0      Graduate            No   \n",
       "\n",
       "   ApplicantIncome  CoapplicantIncome  LoanAmount  Loan_Amount_Term  \\\n",
       "0             5849                0.0         NaN             360.0   \n",
       "1             4583             1508.0       128.0             360.0   \n",
       "2             3000                0.0        66.0             360.0   \n",
       "3             2583             2358.0       120.0             360.0   \n",
       "4             6000                0.0       141.0             360.0   \n",
       "\n",
       "   Credit_History Property_Area Loan_Status  \n",
       "0             1.0         Urban           Y  \n",
       "1             1.0         Rural           N  \n",
       "2             1.0         Urban           Y  \n",
       "3             1.0         Urban           Y  \n",
       "4             1.0         Urban           Y  "
      ]
     },
     "execution_count": 11,
     "metadata": {},
     "output_type": "execute_result"
    }
   ],
   "source": [
    "train.head()"
   ]
  },
  {
   "cell_type": "markdown",
   "metadata": {},
   "source": [
    "Understanding the data.\n",
    "Loan_ID = Unique Loan ID <br>\n",
    "Gender = Male/Female <br>\n",
    "Married = Applicant married (Y/N) <br>\n",
    "Dependents = No. of dependents <br>\n",
    "Education = Applicant education (Graduate/Not graduate) <br>\n",
    "Self_Employed = Y/N <br>\n",
    "ApplicantIncome = Applicant income in thousands/per year <br>\n",
    "CoapplicantIncome = Coapplicant income in thousands/per year <br>\n",
    "LoanAmount = Amount of Loan in thousands <br>\n",
    "Loan_Amount_Term = Term of loan in months <br>\n",
    "Credit_History = Credit history meets guidelines <br>\n",
    "Property_Area = Urban/Semi Urban/Rural <br>\n",
    "Loan_Status = Loan approved (Y/N) <br>\n",
    "\n",
    "Also check the size of test dataset"
   ]
  },
  {
   "cell_type": "code",
   "execution_count": 12,
   "metadata": {},
   "outputs": [
    {
     "data": {
      "text/plain": [
       "(367, 12)"
      ]
     },
     "execution_count": 12,
     "metadata": {},
     "output_type": "execute_result"
    }
   ],
   "source": [
    "test.shape"
   ]
  },
  {
   "cell_type": "markdown",
   "metadata": {},
   "source": [
    "Next we perform univariate analysis where we examine each variable individually. For categorical variables, we will use bar plots or frequency tables. For numerical features, probability density plots can be used to look at the distribution of the variable.\n",
    "\n",
    "Let's check for how many entries, the loan has been approved."
   ]
  },
  {
   "cell_type": "code",
   "execution_count": 13,
   "metadata": {},
   "outputs": [
    {
     "name": "stdout",
     "output_type": "stream",
     "text": [
      "Y    422\n",
      "N    192\n",
      "Name: Loan_Status, dtype: int64\n",
      "Y    0.687296\n",
      "N    0.312704\n",
      "Name: Loan_Status, dtype: float64\n"
     ]
    }
   ],
   "source": [
    "print(train['Loan_Status'].value_counts())\n",
    "print(train['Loan_Status'].value_counts(normalize= True))"
   ]
  },
  {
   "cell_type": "markdown",
   "metadata": {},
   "source": [
    "Out of 614 applicants, only 422 could get their loan approved which is almost 69% of the total applications.\n",
    "Let's plot this data on a bar chart."
   ]
  },
  {
   "cell_type": "code",
   "execution_count": 14,
   "metadata": {},
   "outputs": [
    {
     "data": {
      "text/plain": [
       "<matplotlib.axes._subplots.AxesSubplot at 0x1ed0b85fcc0>"
      ]
     },
     "execution_count": 14,
     "metadata": {},
     "output_type": "execute_result"
    },
    {
     "data": {
      "image/png": "[encoded data removed]",
      "text/plain": [
       "<Figure size 432x288 with 1 Axes>"
      ]
     },
     "metadata": {
      "needs_background": "light"
     },
     "output_type": "display_data"
    }
   ],
   "source": [
    "train['Loan_Status'].value_counts().plot(kind='bar')"
   ]
  },
  {
   "cell_type": "markdown",
   "metadata": {},
   "source": [
    "Now lets visualize each variable separately. Different types of variables are Categorical, ordinal and numerical.\n",
    "\n",
    "1. Categorical features: These features have categories (Gender, Married, Self_Employed, Credit_History, Loan_Status)\n",
    "2. Ordinal features: Variables in categorical features having some order involved (Dependents, Education, Property_Area)\n",
    "3. Numerical features: These features have numerical values (ApplicantIncome, CoapplicantIncome, LoanAmount, Loan_Amount_Term)"
   ]
  },
  {
   "cell_type": "code",
   "execution_count": 15,
   "metadata": {},
   "outputs": [
    {
     "data": {
      "text/plain": [
       "<matplotlib.axes._subplots.AxesSubplot at 0x1ed0bc51dd8>"
      ]
     },
     "execution_count": 15,
     "metadata": {},
     "output_type": "execute_result"
    },
    {
     "data": {
      "image/png": "[encoded data removed]",
      "text/plain": [
       "<Figure size 720x720 with 4 Axes>"
      ]
     },
     "metadata": {
      "needs_background": "light"
     },
     "output_type": "display_data"
    }
   ],
   "source": [
    "#LET'S VISUALIZE THE CATEGORICAL VARIABLES USING BAR PLOTS\n",
    "\n",
    "plt.figure(1)\n",
    "plt.subplot(221)\n",
    "train['Gender'].value_counts(normalize=True).plot(kind='bar',title ='Gender',figsize = (10,10)) \n",
    "\n",
    "plt.subplot(222)\n",
    "train['Married'].value_counts(normalize=True).plot.bar(title = 'Married') \n",
    "# normalization has been used to identify the percentages\n",
    "\n",
    "plt.subplot(223)\n",
    "train['Self_Employed'].value_counts(normalize=True).plot(kind='bar',title ='Self_Employed')\n",
    "\n",
    "plt.subplot(224)\n",
    "train['Credit_History'].value_counts(normalize=True).plot.bar(title = 'Credit_History')"
   ]
  },
  {
   "cell_type": "markdown",
   "metadata": {},
   "source": [
    "From the above visualizatios it can be inferred:\n",
    "1. 80% applicants are Male and only 20% Female\n",
    "2. 15% applicants are self employed\n",
    "3. 65% are married and 35% are unmarried\n",
    "4. 85% applicants have a credit history i.e. they have paid their debts"
   ]
  },
  {
   "cell_type": "code",
   "execution_count": 16,
   "metadata": {},
   "outputs": [
    {
     "name": "stdout",
     "output_type": "stream",
     "text": [
      "0     0.575960\n",
      "1     0.170284\n",
      "2     0.168614\n",
      "3+    0.085142\n",
      "Name: Dependents, dtype: float64\n",
      "Graduate        0.781759\n",
      "Not Graduate    0.218241\n",
      "Name: Education, dtype: float64\n",
      "Semiurban    0.379479\n",
      "Urban        0.328990\n",
      "Rural        0.291531\n",
      "Name: Property_Area, dtype: float64\n"
     ]
    },
    {
     "data": {
      "image/png": "[encoded data removed]",
      "text/plain": [
       "<Figure size 1440x720 with 3 Axes>"
      ]
     },
     "metadata": {
      "needs_background": "light"
     },
     "output_type": "display_data"
    }
   ],
   "source": [
    "# LET'S VISUALIZE THE ORDINAL VARIABLES (Dependents, Education, Property_Area) USING BAR PLOTS \n",
    "\n",
    "plt.figure(2)\n",
    "plt.subplot(131)\n",
    "train['Dependents'].value_counts(normalize=True).plot.bar(title = 'Dependents',figsize=(20,10)) \n",
    "\n",
    "plt.subplot(132)\n",
    "train['Education'].value_counts(normalize=True).plot.bar(title = 'Education')\n",
    "\n",
    "plt.subplot(133)\n",
    "train['Property_Area'].value_counts(normalize=True).plot.bar(title = 'Property_Area')\n",
    "\n",
    "print(train['Dependents'].value_counts(normalize=True))\n",
    "print(train['Education'].value_counts(normalize=True))\n",
    "print(train['Property_Area'].value_counts(normalize=True))"
   ]
  },
  {
   "cell_type": "markdown",
   "metadata": {},
   "source": [
    "The following inferences can be made from the results above\n",
    "1. Most of the applicants don't have any dependents and only 8% have 3 or more.\n",
    "2. 78% applicants are graduates whereas 21% are not.\n",
    "3. Mojority people are from SemiUrban areas - 38%. 32% are from Urban areas and 30% from rural areas."
   ]
  },
  {
   "cell_type": "code",
   "execution_count": 17,
   "metadata": {
    "scrolled": false
   },
   "outputs": [
    {
     "data": {
      "text/plain": [
       "<matplotlib.axes._subplots.AxesSubplot at 0x1ed0bd940b8>"
      ]
     },
     "execution_count": 17,
     "metadata": {},
     "output_type": "execute_result"
    },
    {
     "data": {
      "image/png": "[encoded data removed]",
      "text/plain": [
       "<Figure size 1008x360 with 2 Axes>"
      ]
     },
     "metadata": {
      "needs_background": "light"
     },
     "output_type": "display_data"
    }
   ],
   "source": [
    "#LET'S VISUALIZE THE NUMERICAL VARIABLES (ApplicantIncome, CoapplicantIncome, LoanAmount, Loan_Amount_Term)\n",
    "\n",
    "plt.figure(1)\n",
    "plt.subplot(121)\n",
    "sns.distplot(train['ApplicantIncome'])\n",
    "\n",
    "plt.subplot(122)\n",
    "train['ApplicantIncome'].plot(kind='box',figsize=(14,5))"
   ]
  },
  {
   "cell_type": "markdown",
   "metadata": {},
   "source": [
    "It can be inferred that most of the data in the distribution of applicant income is towards left which means it is <b>not normally distributed</b>. We will try to make it normal in later sections as algorithms works better if the data is normally distributed.\n",
    "\n",
    "The boxplot confirms the presence of a lot of outliers/extreme values. This can be attributed to the income disparity in the society. Part of this can be driven by the fact that we are looking at people with different education levels. Let us segregate them by Education:"
   ]
  },
  {
   "cell_type": "code",
   "execution_count": 18,
   "metadata": {},
   "outputs": [
    {
     "data": {
      "text/plain": [
       "Text(0.5, 0.98, '')"
      ]
     },
     "execution_count": 18,
     "metadata": {},
     "output_type": "execute_result"
    },
    {
     "data": {
      "image/png": "[encoded data removed]",
      "text/plain": [
       "<Figure size 432x288 with 1 Axes>"
      ]
     },
     "metadata": {
      "needs_background": "light"
     },
     "output_type": "display_data"
    }
   ],
   "source": [
    "train.boxplot(column='ApplicantIncome',by='Education')\n",
    "plt.suptitle(\"\")"
   ]
  },
  {
   "cell_type": "markdown",
   "metadata": {},
   "source": [
    "This shows that theres are higher number of graduates who have higher incomes which seem to be the majority outliers in the boxplot."
   ]
  },
  {
   "cell_type": "code",
   "execution_count": 19,
   "metadata": {},
   "outputs": [
    {
     "data": {
      "text/plain": [
       "<matplotlib.axes._subplots.AxesSubplot at 0x1ed0bf02128>"
      ]
     },
     "execution_count": 19,
     "metadata": {},
     "output_type": "execute_result"
    },
    {
     "data": {
      "image/png": "[encoded data removed]",
      "text/plain": [
       "<Figure size 1008x360 with 2 Axes>"
      ]
     },
     "metadata": {
      "needs_background": "light"
     },
     "output_type": "display_data"
    }
   ],
   "source": [
    "#LET'S VISUALIZE THE COAPPLICANT INCOME DISTRIBUTION.\n",
    "\n",
    "plt.figure(1)\n",
    "plt.subplot(121)\n",
    "sns.distplot(train['CoapplicantIncome'])\n",
    "\n",
    "plt.subplot(122)\n",
    "train['CoapplicantIncome'].plot.box(figsize=(14,5))\n"
   ]
  },
  {
   "cell_type": "markdown",
   "metadata": {},
   "source": [
    "We see a similar distribution as that of the applicant income. Majority of coapplicant’s income ranges from 0 to 5000. We also see a lot of outliers in the coapplicant income and it is not normally distributed."
   ]
  },
  {
   "cell_type": "code",
   "execution_count": 20,
   "metadata": {},
   "outputs": [
    {
     "data": {
      "text/plain": [
       "<matplotlib.axes._subplots.AxesSubplot at 0x1ed0c1445c0>"
      ]
     },
     "execution_count": 20,
     "metadata": {},
     "output_type": "execute_result"
    },
    {
     "data": {
      "image/png": "[encoded data removed]",
      "text/plain": [
       "<Figure size 1008x360 with 2 Axes>"
      ]
     },
     "metadata": {
      "needs_background": "light"
     },
     "output_type": "display_data"
    }
   ],
   "source": [
    "#LET'S VISUALIZE THE LoanAmount VARIABLE\n",
    "\n",
    "plt.figure(1)\n",
    "plt.subplot(121)\n",
    "df_train = train.dropna() # to remove 'cannot convert float NaN to integer' error\n",
    "sns.distplot(df_train['LoanAmount'])\n",
    "\n",
    "plt.subplot(122)\n",
    "train['LoanAmount'].plot.box(figsize=(14,5))\n"
   ]
  },
  {
   "cell_type": "markdown",
   "metadata": {},
   "source": [
    "There are many outliers in the LoanAmount as well. \n",
    "We'll deal witht them in the later section but first we need to see how each variable correlates with Loan_Status. This is done using <b>bivariate analysis<b/>."
   ]
  },
  {
   "cell_type": "markdown",
   "metadata": {},
   "source": [
    "INITIAL HYPOTHESIS:\n",
    "\n",
    "1. People having higher incomes should have higher chances of loan approval.\n",
    "2. People have who paid their previous debt i.e. have a good credit history, should have better chances of loan approval.\n",
    "3. Loan Amount is also a deciding factor. Lesser loan amounts should have higher chance of getting approved.\n",
    "4. Lesser the repayment amount per month against the loan, higher should be the loan approval chances. "
   ]
  },
  {
   "cell_type": "markdown",
   "metadata": {},
   "source": [
    "CATEGORICAL VARIABLE AGAINST TARGET VARIABLE\n",
    "\n",
    "Using stacked bar plots on target variable and the categorical independent variable gives us an idea about the proportion of approved and unapproved loans."
   ]
  },
  {
   "cell_type": "code",
   "execution_count": 21,
   "metadata": {
    "scrolled": false
   },
   "outputs": [
    {
     "name": "stdout",
     "output_type": "stream",
     "text": [
      "Loan_Status    N    Y\n",
      "Gender               \n",
      "Female        37   75\n",
      "Male         150  339\n"
     ]
    },
    {
     "data": {
      "image/png": "[encoded data removed]",
      "text/plain": [
       "<Figure size 360x360 with 1 Axes>"
      ]
     },
     "metadata": {
      "needs_background": "light"
     },
     "output_type": "display_data"
    },
    {
     "data": {
      "image/png": "[encoded data removed]",
      "text/plain": [
       "<Figure size 360x360 with 1 Axes>"
      ]
     },
     "metadata": {
      "needs_background": "light"
     },
     "output_type": "display_data"
    }
   ],
   "source": [
    "Gender = pd.crosstab(train['Gender'],train['Loan_Status'])\n",
    "print(Gender)\n",
    "Gender_div = Gender.div(Gender.sum(1).astype(float), axis = 0)\n",
    "#plt.subplot(121)\n",
    "Gender_div.plot(kind='bar',stacked=True,figsize=(5,5))\n",
    "\n",
    "#plt.subplot(122)\n",
    "Gender_div.plot(kind='bar',stacked=False,figsize=(5,5))\n",
    "plt.show()\n"
   ]
  },
  {
   "cell_type": "code",
   "execution_count": 22,
   "metadata": {},
   "outputs": [
    {
     "data": {
      "text/plain": [
       "<matplotlib.axes._subplots.AxesSubplot at 0x1ed0c3d3278>"
      ]
     },
     "execution_count": 22,
     "metadata": {},
     "output_type": "execute_result"
    },
    {
     "data": {
      "image/png": "[encoded data removed]",
      "text/plain": [
       "<Figure size 360x360 with 1 Axes>"
      ]
     },
     "metadata": {
      "needs_background": "light"
     },
     "output_type": "display_data"
    }
   ],
   "source": [
    "Married = pd.crosstab(train['Married'],train['Loan_Status'])\n",
    "Married_div = Married.div(Married.sum(1).astype(float),axis = 0)\n",
    "Married_div.plot(kind='bar',stacked=True,figsize=(5,5))\n"
   ]
  },
  {
   "cell_type": "markdown",
   "metadata": {},
   "source": [
    "Proportion for married applicants is higher for loan approval."
   ]
  },
  {
   "cell_type": "code",
   "execution_count": 23,
   "metadata": {},
   "outputs": [
    {
     "data": {
      "text/plain": [
       "<matplotlib.axes._subplots.AxesSubplot at 0x1ed0c44cd30>"
      ]
     },
     "execution_count": 23,
     "metadata": {},
     "output_type": "execute_result"
    },
    {
     "data": {
      "image/png": "[encoded data removed]",
      "text/plain": [
       "<Figure size 360x360 with 1 Axes>"
      ]
     },
     "metadata": {
      "needs_background": "light"
     },
     "output_type": "display_data"
    }
   ],
   "source": [
    "Self_Employed = pd.crosstab(train['Self_Employed'],train['Loan_Status'])\n",
    "Self_Employed_div = Self_Employed.div(Self_Employed.sum(1).astype(float),axis = 0)\n",
    "Self_Employed_div.plot(kind='bar',figsize=(5,5))\n",
    "#Self_Employed_div.plot(kind='bar',stacked=True,figsize=(5,5))"
   ]
  },
  {
   "cell_type": "markdown",
   "metadata": {},
   "source": [
    "According to the above graph there is no bias towards Self_Employment for approval. Approved and unapproved proportions seem to be the same. "
   ]
  },
  {
   "cell_type": "code",
   "execution_count": 24,
   "metadata": {},
   "outputs": [
    {
     "data": {
      "text/plain": [
       "<matplotlib.axes._subplots.AxesSubplot at 0x1ed0c778320>"
      ]
     },
     "execution_count": 24,
     "metadata": {},
     "output_type": "execute_result"
    },
    {
     "data": {
      "image/png": "[encoded data removed]",
      "text/plain": [
       "<Figure size 360x360 with 1 Axes>"
      ]
     },
     "metadata": {
      "needs_background": "light"
     },
     "output_type": "display_data"
    }
   ],
   "source": [
    "Education = pd.crosstab(train['Education'],train['Loan_Status'])\n",
    "Education_div = Education.div(Education.sum(1).astype(float),axis = 0)\n",
    "Education_div.plot(kind='bar',stacked=False,figsize=(5,5))\n",
    "#Education_div.plot(kind='bar',stacked=True,figsize=(5,5))"
   ]
  },
  {
   "cell_type": "markdown",
   "metadata": {},
   "source": [
    "Graduates have a higher proportion of loan approvals and lower proportions of loan rejection."
   ]
  },
  {
   "cell_type": "code",
   "execution_count": 25,
   "metadata": {},
   "outputs": [
    {
     "data": {
      "text/plain": [
       "<matplotlib.axes._subplots.AxesSubplot at 0x1ed0c430b38>"
      ]
     },
     "execution_count": 25,
     "metadata": {},
     "output_type": "execute_result"
    },
    {
     "data": {
      "image/png": "[encoded data removed]",
      "text/plain": [
       "<Figure size 360x360 with 1 Axes>"
      ]
     },
     "metadata": {
      "needs_background": "light"
     },
     "output_type": "display_data"
    }
   ],
   "source": [
    "Dependents = pd.crosstab(train['Dependents'],train['Loan_Status'])\n",
    "Dependents_div = Dependents.div(Dependents.sum(1).astype(float),axis = 0)\n",
    "Dependents_div.plot(kind='bar',stacked=False,figsize=(5,5))\n",
    "#Dependents_div.plot(kind='bar',stacked=True,figsize=(5,5))"
   ]
  },
  {
   "cell_type": "markdown",
   "metadata": {},
   "source": [
    "Distribution of applicants with 1 or 3+ dependents is similar across both the categories of Loan_Status."
   ]
  },
  {
   "cell_type": "code",
   "execution_count": 26,
   "metadata": {},
   "outputs": [
    {
     "data": {
      "text/plain": [
       "<matplotlib.axes._subplots.AxesSubplot at 0x1ed0c855470>"
      ]
     },
     "execution_count": 26,
     "metadata": {},
     "output_type": "execute_result"
    },
    {
     "data": {
      "image/png": "[encoded data removed]",
      "text/plain": [
       "<Figure size 360x360 with 1 Axes>"
      ]
     },
     "metadata": {
      "needs_background": "light"
     },
     "output_type": "display_data"
    }
   ],
   "source": [
    "Credit_History = pd.crosstab(train['Credit_History'],train['Loan_Status'])\n",
    "Credit_History_div = Credit_History.div(Credit_History.sum(1).astype(float),axis = 0)\n",
    "Credit_History_div.plot(kind='bar',figsize=(5,5))"
   ]
  },
  {
   "cell_type": "markdown",
   "metadata": {},
   "source": [
    "People with a credit history of 1 are more likely to gettheir loan approved, whereas most applicants with 0 credit have been rejected for loan. But still a few people with positive credit history have been rejected. Wonder why?"
   ]
  },
  {
   "cell_type": "code",
   "execution_count": 27,
   "metadata": {},
   "outputs": [
    {
     "data": {
      "text/plain": [
       "<matplotlib.axes._subplots.AxesSubplot at 0x1ed0c8c8630>"
      ]
     },
     "execution_count": 27,
     "metadata": {},
     "output_type": "execute_result"
    },
    {
     "data": {
      "image/png": "[encoded data removed]",
      "text/plain": [
       "<Figure size 360x360 with 1 Axes>"
      ]
     },
     "metadata": {
      "needs_background": "light"
     },
     "output_type": "display_data"
    }
   ],
   "source": [
    "Property_Area = pd.crosstab(train['Property_Area'],train['Loan_Status'])\n",
    "Property_Area_div = Property_Area.div(Property_Area.sum(1).astype(float),axis = 0)\n",
    "#Property_Area_div.plot(kind='bar',stacked=True,figsize=(5,5))\n",
    "Property_Area_div.plot(kind='bar',figsize=(5,5))"
   ]
  },
  {
   "cell_type": "markdown",
   "metadata": {},
   "source": [
    "Proportion of loans getting approved in semiurban area is higher as compared to that in rural or urban areas.\n"
   ]
  },
  {
   "cell_type": "markdown",
   "metadata": {},
   "source": [
    "NUMERICAL INDEPENDENT VARIABLE AGAINST TARGET VARIABLE\n",
    "\n",
    "Since income is a numerical variable and has values over a large range, we can categorize the incomes into say 4 categories of 'Low','Average','High','Very High' by using binning with bin values as 0, 2000, 4000, 6000, 81000 "
   ]
  },
  {
   "cell_type": "code",
   "execution_count": 28,
   "metadata": {},
   "outputs": [
    {
     "name": "stdout",
     "output_type": "stream",
     "text": [
      "Loan_ID              LP002317\n",
      "Gender                   Male\n",
      "Married                   Yes\n",
      "Dependents                 3+\n",
      "Education            Graduate\n",
      "Self_Employed              No\n",
      "ApplicantIncome         81000\n",
      "CoapplicantIncome           0\n",
      "LoanAmount                360\n",
      "Loan_Amount_Term          360\n",
      "Credit_History              0\n",
      "Property_Area           Rural\n",
      "Loan_Status                 N\n",
      "Name: 409, dtype: object\n",
      "count      614.000000\n",
      "mean      5403.459283\n",
      "std       6109.041673\n",
      "min        150.000000\n",
      "25%       2877.500000\n",
      "50%       3812.500000\n",
      "75%       5795.000000\n",
      "max      81000.000000\n",
      "Name: ApplicantIncome, dtype: float64\n"
     ]
    }
   ],
   "source": [
    "#Lets find out the details of the person with maximum ApplicantIncome in the given train dataset\n",
    "\n",
    "print(train.loc[train[\"ApplicantIncome\"].idxmax()])\n",
    "\n",
    "#Let us also print the mean, 25%,50%,75% of the ApplicantIncome to support the values chosen for binning\n",
    "print(train[\"ApplicantIncome\"].describe())"
   ]
  },
  {
   "cell_type": "code",
   "execution_count": 29,
   "metadata": {},
   "outputs": [
    {
     "data": {
      "image/png": "[encoded data removed]",
      "text/plain": [
       "<Figure size 432x288 with 1 Axes>"
      ]
     },
     "metadata": {
      "needs_background": "light"
     },
     "output_type": "display_data"
    }
   ],
   "source": [
    "bins=[0,2500,4000,6000,81000] \n",
    "group=['Low','Average','High', 'Very high'] \n",
    "train['Income_bin']=pd.cut(train['ApplicantIncome'],bins,labels=group)\n",
    "\n",
    "Income_bin=pd.crosstab(train['Income_bin'],train['Loan_Status']) \n",
    "Income_bin.div(Income_bin.sum(1).astype(float), axis=0).plot(kind=\"bar\", stacked=True) \n",
    "plt.xlabel('ApplicantIncome') \n",
    "P = plt.ylabel('Percentage')"
   ]
  },
  {
   "cell_type": "markdown",
   "metadata": {},
   "source": [
    "The above results show that ApplicantIncome has no effect on Loan_Status which contradicts our hypothesis.\n",
    "Let's analyze the effect of coapplicantIncome on Loan_Status"
   ]
  },
  {
   "cell_type": "code",
   "execution_count": 30,
   "metadata": {},
   "outputs": [
    {
     "name": "stdout",
     "output_type": "stream",
     "text": [
      "count      614.000000\n",
      "mean      1621.245798\n",
      "std       2926.248369\n",
      "min          0.000000\n",
      "25%          0.000000\n",
      "50%       1188.500000\n",
      "75%       2297.250000\n",
      "max      41667.000000\n",
      "Name: CoapplicantIncome, dtype: float64\n"
     ]
    }
   ],
   "source": [
    "print(train[\"CoapplicantIncome\"].describe())"
   ]
  },
  {
   "cell_type": "code",
   "execution_count": 31,
   "metadata": {},
   "outputs": [
    {
     "data": {
      "image/png": "[encoded data removed]",
      "text/plain": [
       "<Figure size 432x288 with 1 Axes>"
      ]
     },
     "metadata": {
      "needs_background": "light"
     },
     "output_type": "display_data"
    }
   ],
   "source": [
    "bins2=[0,1000,3000,42000] \n",
    "group2=['Low','Average','High'] \n",
    "train['Coapplicant_Income_bin']=pd.cut(train['CoapplicantIncome'],bins2,labels=group2)\n",
    "\n",
    "Coapplicant_Income_bin=pd.crosstab(train['Coapplicant_Income_bin'],train['Loan_Status']) \n",
    "Coapplicant_Income_bin.div(Coapplicant_Income_bin.sum(1).astype(float), axis=0).plot(kind=\"bar\", stacked=True) \n",
    "plt.xlabel('CoapplicantIncome') \n",
    "P = plt.ylabel('Percentage')"
   ]
  },
  {
   "cell_type": "markdown",
   "metadata": {},
   "source": [
    "From the above graph we can infer that applicants having low coapplicant incomes have a higher chance of loan approval than those whose coapplicant income is higher. This doesnt fit logically into the problem as CoapplicantIncome should be higher to help repay the loan. <br>\n",
    "\n",
    "Let's repeat the same procedure to see the effect with combined applicantIncome and CoapplicantIncome. This is done to avoid those cases when while CoapplicantIncome dependency on Loan_Status, observation with 0 values made Loan_Status indepenedent of coapplicantIncome."
   ]
  },
  {
   "cell_type": "code",
   "execution_count": 32,
   "metadata": {},
   "outputs": [
    {
     "name": "stdout",
     "output_type": "stream",
     "text": [
      "count      614.000000\n",
      "mean      7024.705081\n",
      "std       6458.663872\n",
      "min       1442.000000\n",
      "25%       4166.000000\n",
      "50%       5416.500000\n",
      "75%       7521.750000\n",
      "max      81000.000000\n",
      "Name: Total_Income, dtype: float64\n"
     ]
    }
   ],
   "source": [
    "train['Total_Income'] = train['ApplicantIncome'] + train['CoapplicantIncome']\n",
    "print(train['Total_Income'].describe())"
   ]
  },
  {
   "cell_type": "code",
   "execution_count": 33,
   "metadata": {},
   "outputs": [
    {
     "data": {
      "image/png": "[encoded data removed]",
      "text/plain": [
       "<Figure size 432x288 with 1 Axes>"
      ]
     },
     "metadata": {
      "needs_background": "light"
     },
     "output_type": "display_data"
    }
   ],
   "source": [
    "bins3 = [0,2500,4000,6000,81000]\n",
    "group3 = ['Low','Average','High','Very High']\n",
    "train['Total_Income_bin']=pd.cut(train['Total_Income'],bins3,labels=group3)\n",
    "\n",
    "Total_Income_bin = pd.crosstab(train['Total_Income_bin'],train['Loan_Status'])\n",
    "Total_Income_bin.div(Total_Income_bin.sum(1).astype(float),axis = 0).plot(kind='bar',stacked =True)\n",
    "plt.xlabel('Total_Income')\n",
    "P = plt.ylabel('Percentages')"
   ]
  },
  {
   "cell_type": "markdown",
   "metadata": {},
   "source": [
    "We can see that Proportion of loans getting approved for applicants having low Total_Income is very less as compared to that of applicants with Average, High and Very High Income.<br>\n",
    "\n",
    "Let’s visualize the Loan amount variable."
   ]
  },
  {
   "cell_type": "code",
   "execution_count": 34,
   "metadata": {},
   "outputs": [
    {
     "data": {
      "image/png": "[encoded data removed]",
      "text/plain": [
       "<Figure size 432x288 with 1 Axes>"
      ]
     },
     "metadata": {
      "needs_background": "light"
     },
     "output_type": "display_data"
    }
   ],
   "source": [
    "bin4 = [0,100,300,700]\n",
    "group4 = ['Low','Average','High']\n",
    "\n",
    "train['LoanAmount_bin'] = pd.cut(train['LoanAmount'],bin4,labels= group4)\n",
    "LoanAmount_bin = pd.crosstab(train['LoanAmount_bin'],train['Loan_Status'])\n",
    "LoanAmount_bin = LoanAmount_bin.div(LoanAmount_bin.sum(1).astype(float),axis = 0).plot(kind='bar',stacked=True)\n",
    "plt.xlabel('LoanAmount')\n",
    "P = plt.ylabel(\"Percentages\")"
   ]
  },
  {
   "cell_type": "markdown",
   "metadata": {},
   "source": [
    "It can be seen that the proportion of approved loans is higher for Low and Average Loan Amount as compared to that of High Loan Amount which supports our hypothesis in which we considered that the chances of loan approval will be high when the loan amount is less."
   ]
  },
  {
   "cell_type": "markdown",
   "metadata": {},
   "source": [
    "Let us find correlations between the categorical variables that affect Loan_Status with the numerical variables using HeatMap. We need to convert all strings to numerical values so all 3+ will be replaced by 3 in depenedent variable and the Yes to 1 and No to 0 in Loan_Status variable. One more reason to do so is few models like logistic regression takes only numeric values as input. "
   ]
  },
  {
   "cell_type": "code",
   "execution_count": 35,
   "metadata": {
    "scrolled": false
   },
   "outputs": [
    {
     "data": {
      "text/plain": [
       "<matplotlib.axes._subplots.AxesSubplot at 0x1ed0ca5c4a8>"
      ]
     },
     "execution_count": 35,
     "metadata": {},
     "output_type": "execute_result"
    },
    {
     "data": {
      "image/png": "[encoded data removed]",
      "text/plain": [
       "<Figure size 648x432 with 2 Axes>"
      ]
     },
     "metadata": {
      "needs_background": "light"
     },
     "output_type": "display_data"
    }
   ],
   "source": [
    "#first we will drop all the bins that we created from our data frame\n",
    "train = train.drop(['LoanAmount_bin','Total_Income_bin','Total_Income','Coapplicant_Income_bin','Income_bin'], axis = 1)\n",
    "\n",
    "#now we will replace non numeric values with numeric values.\n",
    "train['Dependents'].replace('3+',3, inplace= True)\n",
    "test['Dependents'].replace('3+',3, inplace= True)\n",
    "train['Loan_Status'].replace('No',0,inplace=True)\n",
    "train['Loan_Status'].replace('Yes',1,inplace=True)\n",
    "\n",
    "#Now let's plot the HeatMap to understand the correlation between variables.\n",
    "matrix = train.corr()\n",
    "f,ax = plt.subplots(figsize=(9,6)) \n",
    "sns.heatmap(matrix,vmax=0.8,square=True,cmap='Greens')\n"
   ]
  },
  {
   "cell_type": "code",
   "execution_count": 36,
   "metadata": {},
   "outputs": [
    {
     "data": {
      "text/plain": [
       "<matplotlib.axes._subplots.AxesSubplot at 0x1ed0ca6b278>"
      ]
     },
     "execution_count": 36,
     "metadata": {},
     "output_type": "execute_result"
    },
    {
     "data": {
      "image/png": "[encoded data removed]",
      "text/plain": [
       "<Figure size 648x432 with 2 Axes>"
      ]
     },
     "metadata": {
      "needs_background": "light"
     },
     "output_type": "display_data"
    }
   ],
   "source": [
    "#Now let's plot the HeatMap to understand the correlation between variables.\n",
    "matrix = train.corr()\n",
    "f,ax = plt.subplots(figsize=(9,6)) \n",
    "sns.heatmap(matrix,vmax=0.8,square=True,cmap='BuPu')\n",
    "#sns.heatmap(matrix,vmax=0.8,square=True,cmap='Blues')"
   ]
  },
  {
   "cell_type": "markdown",
   "metadata": {},
   "source": [
    "Correlated variables are (ApplicantIncome - LoanAmount) and (Credit_History - Loan_Status). LoanAmount is also correlated with CoapplicantIncome."
   ]
  },
  {
   "cell_type": "markdown",
   "metadata": {},
   "source": [
    "We are yet to deal of the missing values if any.\n",
    "\n",
    "## Missing Value Imputation\n",
    "\n",
    "You will discover that there are missing values in Gender, Married, Dependents, Self_Employed, LoanAmount, Loan_Amount_Term and Credit_History features."
   ]
  },
  {
   "cell_type": "code",
   "execution_count": 37,
   "metadata": {},
   "outputs": [
    {
     "data": {
      "text/plain": [
       "Loan_ID               0\n",
       "Gender               13\n",
       "Married               3\n",
       "Dependents           15\n",
       "Education             0\n",
       "Self_Employed        32\n",
       "ApplicantIncome       0\n",
       "CoapplicantIncome     0\n",
       "LoanAmount           22\n",
       "Loan_Amount_Term     14\n",
       "Credit_History       50\n",
       "Property_Area         0\n",
       "Loan_Status           0\n",
       "dtype: int64"
      ]
     },
     "execution_count": 37,
     "metadata": {},
     "output_type": "execute_result"
    }
   ],
   "source": [
    "train.isnull().sum() #train.isnull().any() will return bool "
   ]
  },
  {
   "cell_type": "markdown",
   "metadata": {},
   "source": [
    "We can treat the missing values according to the following:\n",
    "    \n",
    "    1. Categorical Variables- imputation using mode\n",
    "    2. Numerical Variables-imputation using mean or median"
   ]
  },
  {
   "cell_type": "code",
   "execution_count": 38,
   "metadata": {},
   "outputs": [],
   "source": [
    "# categorical variables using mode\n",
    "train['Gender'].fillna(train['Gender'].mode()[0],inplace = True)\n",
    "train['Married'].fillna(train['Married'].mode()[0],inplace = True)\n",
    "train['Dependents'].fillna(train['Dependents'].mode()[0],inplace = True)\n",
    "train['Self_Employed'].fillna(train['Self_Employed'].mode()[0],inplace = True)\n",
    "train['Credit_History'].fillna(train['Credit_History'].mode()[0],inplace = True)"
   ]
  },
  {
   "cell_type": "code",
   "execution_count": 39,
   "metadata": {},
   "outputs": [
    {
     "data": {
      "text/plain": [
       "360.0    512\n",
       "180.0     44\n",
       "480.0     15\n",
       "300.0     13\n",
       "84.0       4\n",
       "240.0      4\n",
       "120.0      3\n",
       "36.0       2\n",
       "60.0       2\n",
       "12.0       1\n",
       "Name: Loan_Amount_Term, dtype: int64"
      ]
     },
     "execution_count": 39,
     "metadata": {},
     "output_type": "execute_result"
    }
   ],
   "source": [
    "train['Loan_Amount_Term'].value_counts()\n"
   ]
  },
  {
   "cell_type": "code",
   "execution_count": 40,
   "metadata": {},
   "outputs": [],
   "source": [
    "train['Loan_Amount_Term'].fillna(train['Loan_Amount_Term'].mode()[0],inplace = True)\n",
    "\n",
    "# since the loan amount term variable, the value of 360 is repeating the most. \n",
    "# So we replaced the missing values in this variable using the mode of this variable."
   ]
  },
  {
   "cell_type": "markdown",
   "metadata": {},
   "source": [
    "Dealing with all the missing values in numerical variables.\n",
    "\n",
    "As our data has numerous outliers it will be better to fill the missing values in LoanAmount with the median of this variable instead of mean as mean is adversely affected by the presence of outliers.\n"
   ]
  },
  {
   "cell_type": "code",
   "execution_count": 41,
   "metadata": {},
   "outputs": [
    {
     "data": {
      "text/plain": [
       "Loan_ID              0\n",
       "Gender               0\n",
       "Married              0\n",
       "Dependents           0\n",
       "Education            0\n",
       "Self_Employed        0\n",
       "ApplicantIncome      0\n",
       "CoapplicantIncome    0\n",
       "LoanAmount           0\n",
       "Loan_Amount_Term     0\n",
       "Credit_History       0\n",
       "Property_Area        0\n",
       "Loan_Status          0\n",
       "dtype: int64"
      ]
     },
     "execution_count": 41,
     "metadata": {},
     "output_type": "execute_result"
    }
   ],
   "source": [
    "train['LoanAmount'].fillna(train['LoanAmount'].median(),inplace = True)\n",
    "\n",
    "#check if all missing values have been replaced\n",
    "train.isnull().sum()"
   ]
  },
  {
   "cell_type": "markdown",
   "metadata": {},
   "source": [
    "All the missing data has been taken care of in our train datset. \n",
    "Using the similar approach, we will fill all the missing values in our test dataset."
   ]
  },
  {
   "cell_type": "code",
   "execution_count": 42,
   "metadata": {},
   "outputs": [
    {
     "data": {
      "text/plain": [
       "Loan_ID              0\n",
       "Gender               0\n",
       "Married              0\n",
       "Dependents           0\n",
       "Education            0\n",
       "Self_Employed        0\n",
       "ApplicantIncome      0\n",
       "CoapplicantIncome    0\n",
       "LoanAmount           0\n",
       "Loan_Amount_Term     0\n",
       "Credit_History       0\n",
       "Property_Area        0\n",
       "dtype: int64"
      ]
     },
     "execution_count": 42,
     "metadata": {},
     "output_type": "execute_result"
    }
   ],
   "source": [
    "test['Gender'].fillna(test['Gender'].mode()[0],inplace = True)\n",
    "test['Married'].fillna(test['Married'].mode()[0],inplace = True)\n",
    "test['Dependents'].fillna(test['Dependents'].mode()[0],inplace = True)\n",
    "test['Self_Employed'].fillna(test['Self_Employed'].mode()[0],inplace = True)\n",
    "test['Credit_History'].fillna(test['Credit_History'].mode()[0],inplace = True)\n",
    "\n",
    "test['Loan_Amount_Term'].fillna(test['Loan_Amount_Term'].mode()[0],inplace = True)\n",
    "\n",
    "test['LoanAmount'].fillna(test['LoanAmount'].median(),inplace = True)\n",
    "\n",
    "#check if all missing values have been replaced\n",
    "test.isnull().sum()"
   ]
  },
  {
   "cell_type": "markdown",
   "metadata": {},
   "source": [
    "### Outlier Treatment\n",
    "\n",
    "This is an important step to remove outlier bias in our results. Normalization is done to get the values under the same scale.<br>\n",
    "Due to these outliers bulk of the data in the loan amount is at the left and the right tail is longer. This is called right skewness. One way to remove the skewness is by doing the log transformation. As we take the log transformation, it does not affect the smaller values much, but reduces the larger values. So, we get a distribution similar to normal distribution."
   ]
  },
  {
   "cell_type": "code",
   "execution_count": 43,
   "metadata": {},
   "outputs": [
    {
     "data": {
      "image/png": "[encoded data removed]",
      "text/plain": [
       "<Figure size 432x288 with 1 Axes>"
      ]
     },
     "metadata": {
      "needs_background": "light"
     },
     "output_type": "display_data"
    }
   ],
   "source": [
    "train['LoanAmount_Log'] = np.log(train['LoanAmount'])\n",
    "train['LoanAmount_Log'].hist(bins=20)\n",
    "test['LoanAmount_Log'] = np.log(test['LoanAmount'])"
   ]
  },
  {
   "cell_type": "markdown",
   "metadata": {},
   "source": [
    "Now the distribution looks much closer to normal and effect of extreme values has been significantly subsided. Let’s build a logistic regression model and make predictions for the test dataset."
   ]
  },
  {
   "cell_type": "markdown",
   "metadata": {},
   "source": [
    "#### MODEL BUILDING AND EVALUATION\n",
    "\n",
    "The process of model building is not complete without evaluation of model’s performance. Suppose we have the predictions from the model, how can we decide whether the predictions are accurate? We can plot the results and compare them with the actual values, i.e. calculate the distance between the predictions and actual values. Lesser this distance more accurate will be the predictions. Since this is a classification problem, we can evaluate our models using any one of the following evaluation metrics:\n",
    "\n",
    "<b>Accuracy:</b> Let us understand it using the confusion matrix which is a tabular representation of Actual vs Predicted values. \n",
    "    1. True Positive - Targets which are actually true(Y) and we have predicted them true(Y)\n",
    "    2. True Negative - Targets which are actually false(N) and we have predicted them false(N)\n",
    "    3. False Positive - Targets which are actually false(N) but we have predicted them true(T)\n",
    "    4. False Negative - Targets which are actually true(T) but we have predicted them false(N)\n",
    "<b><u>ACURACY</u> = (True Positive + True Negative) / (True Positive + False Positive + True Negative + False Positive) </b>  \n",
    "\n",
    "<b>Precision:</b> It is a measure of correctness achieved in true prediction i.e. of observations labeled as true, how many are actually labeled true.\n",
    "<b><u>Precision</u> = TP / (TP + FP)</b>\n",
    "\n",
    "<b>Recall(Sensitivity)</b> - It is a measure of actual observations which are predicted correctly i.e. how many observations of true class are labeled correctly. It is also known as ‘Sensitivity’.\n",
    "<b><u>Recall</u> = TP / (TP + FN)</b>\n",
    "\n",
    "<b>Specificity</b> - It is a measure of how many observations of false class are labeled correctly.\n",
    "<b><u>Specificity</u> = TN / (TN + FP)</b>\n",
    "\n",
    "Specificity and Sensitivity plays a crucial role in deriving ROC curve.\n",
    "\n",
    "<b><u>ROC curve</u></b>\n",
    "Receiver Operating Characteristic(ROC) summarizes the model’s performance by evaluating the trade offs between true positive rate (sensitivity) and false positive rate(1- specificity).\n",
    "The area under curve (AUC), referred to as index of accuracy(A) or concordance index, is a perfect performance metric for ROC curve. Higher the area under curve, better the prediction power of the model."
   ]
  },
  {
   "cell_type": "markdown",
   "metadata": {},
   "source": [
    "Let us make our first model to predict the target variable. We will start with <b>Logistic Regression</b> which is used for predicting binary outcome.\n",
    "\n",
    "Logistic Regression is a classification algorithm. It is used to predict a binary outcome (1 / 0, Yes / No, True / False) given a set of independent variables.\n",
    "Logistic regression is an estimation of Logit function. Logit function is simply a log of odds in favor of the event.\n",
    "This function creates a s-shaped curve with the probability estimate, which is very similar to the required step wise function"
   ]
  },
  {
   "cell_type": "code",
   "execution_count": 44,
   "metadata": {},
   "outputs": [],
   "source": [
    "#Let's drop the Loan_ID variable as it does not have any effect on our dataset. \n",
    "#Perform these changes on both train and test datasets\n",
    "\n",
    "train = train.drop('Loan_ID',axis = 1)\n",
    "test = test.drop('Loan_ID',axis = 1)\n"
   ]
  },
  {
   "cell_type": "markdown",
   "metadata": {},
   "source": [
    "For modelling in Python, we have an inbuilt library called scikit-learn(sklearn). <br>\n",
    "Sklearn requires the target variable in a separate dataset. So, we will drop our target variable from the train dataset and save it in another dataset."
   ]
  },
  {
   "cell_type": "code",
   "execution_count": 45,
   "metadata": {},
   "outputs": [],
   "source": [
    "# We will save the train data set without the Loan_Status (target variable) into x_train and save the target variable into y_train\n",
    "x_df = train.drop('Loan_Status',1)\n",
    "y_df = train['Loan_Status']"
   ]
  },
  {
   "cell_type": "markdown",
   "metadata": {},
   "source": [
    "An important point to remember is that Logistic Regression only takes numerical inputs. \n",
    "In our dataset we only have three numerical variables and rest are categorical variables. These categorical variables have to be converted to integers to be able to feed them into our regression model. <br>\n",
    "We achieve this by using <b>pd.get_dummies()</b> function. The <b>.get_dummies()</b> turns categorical variables into a series of 0 and 1, making them lot easier to quantify and compare. <br>\n",
    "\n",
    "For example, \n",
    "Once we apply dummies to this variable, it will convert the “Gender” variable into two variables(Gender_Male and Gender_Female), one for each class, i.e. Male and Female.\n",
    "Gender_Male will have a value of 0 if the gender is Female and a value of 1 if the gender is Male."
   ]
  },
  {
   "cell_type": "code",
   "execution_count": 46,
   "metadata": {},
   "outputs": [],
   "source": [
    "X = pd.get_dummies(x_df)\n",
    "train = pd.get_dummies(train)\n",
    "test = pd.get_dummies(test)"
   ]
  },
  {
   "cell_type": "markdown",
   "metadata": {},
   "source": [
    "Next is the training of our model based on the training dataset and make predictions on the test data.\n",
    "We also need to provide validation for our model i.e. confirm wether our model is predicting correctly or not. For this we can split our training dataset into training data and validation data. We cannot use our test dataset for this purpose as our test data doesn't provide us with values of the target variable to validate our model.\n",
    "Thus to split our train data we use the function train_test_split() from sklearn library."
   ]
  },
  {
   "cell_type": "code",
   "execution_count": 47,
   "metadata": {},
   "outputs": [
    {
     "data": {
      "text/plain": [
       "LogisticRegression(C=1.0, class_weight=None, dual=False, fit_intercept=True,\n",
       "          intercept_scaling=1, max_iter=100, multi_class='ovr', n_jobs=1,\n",
       "          penalty='l2', random_state=1, solver='liblinear', tol=0.0001,\n",
       "          verbose=0, warm_start=False)"
      ]
     },
     "execution_count": 47,
     "metadata": {},
     "output_type": "execute_result"
    }
   ],
   "source": [
    "#lets import train_test_split\n",
    "\n",
    "from sklearn.model_selection import train_test_split\n",
    "x_train, x_cv, y_train, y_cv = train_test_split(X,y_df,test_size = 0.3)\n",
    "\n",
    "#The dataset has been divided into training and validation part. \n",
    "#Let us import LogisticRegression and accuracy_score from sklearn and fit the logistic regression model.\n",
    "\n",
    "from sklearn.linear_model import LogisticRegression\n",
    "from sklearn.metrics import accuracy_score\n",
    "\n",
    "model = LogisticRegression()\n",
    "model.fit(x_train,y_train)\n",
    "LogisticRegression(C=1.0, class_weight=None, dual=False, fit_intercept=True,\n",
    "                   intercept_scaling=1, max_iter=100, multi_class='ovr', n_jobs=1,\n",
    "                   penalty='l2', random_state=1, solver='liblinear', tol=0.0001,\n",
    "                   verbose=0, warm_start=False)\n"
   ]
  },
  {
   "cell_type": "code",
   "execution_count": 49,
   "metadata": {},
   "outputs": [
    {
     "data": {
      "text/plain": [
       "0.8702702702702703"
      ]
     },
     "execution_count": 49,
     "metadata": {},
     "output_type": "execute_result"
    }
   ],
   "source": [
    "# Let's predict the values of Loan_Status for our validation dataset and check its accuracy.\n",
    "\n",
    "pred_cv = model.predict(x_cv)\n",
    "\n",
    "# Calculating the accuracy.\n",
    "accuracy_score(y_cv,pred_cv)"
   ]
  },
  {
   "cell_type": "markdown",
   "metadata": {},
   "source": [
    "Our results are almost 87% accurate i.e. 87% of our predictions have been correct."
   ]
  },
  {
   "cell_type": "markdown",
   "metadata": {},
   "source": [
    "To check how robust our model is to unseen data, we can use Validation. It is a technique which involves reserving a particular sample of a dataset on which you do not train the model. Later, you test your model on this sample before finalizing it. Some of the common methods for validation are listed below:\n",
    "\n",
    "1. The validation set approach\n",
    "2. k-fold cross validation\n",
    "3. Leave one out cross validation (LOOCV)\n",
    "4. Stratified k-fold cross validation"
   ]
  },
  {
   "cell_type": "markdown",
   "metadata": {},
   "source": [
    "#### Stratified K-fold validation"
   ]
  },
  {
   "cell_type": "code",
   "execution_count": 50,
   "metadata": {},
   "outputs": [],
   "source": [
    "from sklearn.model_selection import StratifiedKFold"
   ]
  },
  {
   "cell_type": "code",
   "execution_count": 57,
   "metadata": {},
   "outputs": [
    {
     "name": "stdout",
     "output_type": "stream",
     "text": [
      "\n",
      "1 of kfold 5\n",
      "accuracy_score is  0.7983870967741935\n",
      "\n",
      "2 of kfold 5\n",
      "accuracy_score is  0.8306451612903226\n",
      "\n",
      "3 of kfold 5\n",
      "accuracy_score is  0.8114754098360656\n",
      "\n",
      "4 of kfold 5\n",
      "accuracy_score is  0.7950819672131147\n",
      "\n",
      "5 of kfold 5\n",
      "accuracy_score is  0.8278688524590164\n",
      "0.23242772783359777\n"
     ]
    }
   ],
   "source": [
    "i=1\n",
    "kf = StratifiedKFold(n_splits = 5, random_state = 1, shuffle = True)\n",
    "for train_index,test_index in kf.split(X,y_df) :\n",
    "    print('\\n{} of kfold {}'.format(i,kf.n_splits))\n",
    "    xtr,xvl = X.loc[train_index],X.loc[test_index]\n",
    "    ytr,yvl = y_df.loc[train_index],y_df.loc[test_index]\n",
    "    model=LogisticRegression(random_state =1)\n",
    "    model.fit(xtr,ytr)\n",
    "    pred_test = model.predict(xvl)\n",
    "    score = accuracy_score(yvl,pred_test)\n",
    "    print('accuracy_score is ',score)\n",
    "    i+=1\n",
    "pred_test = model.predict(test)\n",
    "pred = model.predict_proba(xvl)[:,1]\n",
    "print(mean)"
   ]
  },
  {
   "cell_type": "markdown",
   "metadata": {},
   "source": [
    "The mean of the aboce accuracy scores comes out to be 0.813. Let us visualize the ROC curve."
   ]
  },
  {
   "cell_type": "code",
   "execution_count": 66,
   "metadata": {},
   "outputs": [
    {
     "data": {
      "image/png": "[encoded data removed]",
      "text/plain": [
       "<Figure size 864x576 with 1 Axes>"
      ]
     },
     "metadata": {
      "needs_background": "light"
     },
     "output_type": "display_data"
    }
   ],
   "source": [
    "from sklearn import metrics \n",
    "fpr , tpr , threshold = metrics.roc_curve(yvl, pred,pos_label='Y')\n",
    "auc= metrics.roc_auc_score(yvl, pred)\n",
    "plt.figure(figsize=(12,8))\n",
    "plt.plot(fpr,tpr,label=\"validation ,auc = \" + str(auc))\n",
    "plt.xlabel('False Positive Rate')\n",
    "plt.ylabel('True positive Rate')\n",
    "plt.legend(loc = 4)\n",
    "plt.show()"
   ]
  },
  {
   "cell_type": "markdown",
   "metadata": {},
   "source": [
    "We got an auc of 0.77. Let us make an attempt to better our score. <br>\n",
    "We can do this by feature engineering. Based on our domain knowledge, we can say that there are some more factors which may affect our results.<br>\n",
    "These features can be<br>\n",
    "1.  <b>Total Income:</b> ApplicantIncome + CoapplicantIncome<br>\n",
    "    If the total income is high, the chance of loan approval is also high.\n",
    "    \n",
    "2.  <b>EMI:</b> It is the motnhly amount to be paid by the aplicant to repay the loan. Applicants with higher EMIs miht find it difficult to pay back their loans. We calculate this feature by taking ratio of loan_amount with respect to the loan_amount_term.\n",
    "3.  <b>Balance Income:</b> This is the income left after the EMI has been paid. Idea behind creating this variable is that if the value is high, the chances are that they might be able to pay their upcoming EMIs timely and hence loan approval chances go up."
   ]
  },
  {
   "cell_type": "code",
   "execution_count": 69,
   "metadata": {},
   "outputs": [],
   "source": [
    "# TOTAL INOCME\n",
    "train['Total_Income'] = train['ApplicantIncome'] + train['CoapplicantIncome']\n",
    "test['Total_Income'] = test['ApplicantIncome'] + test['CoapplicantIncome']\n",
    "\n",
    "# EMI\n",
    "train['EMI'] = train['LoanAmount'] / train['Loan_Amount_Term']\n",
    "test['EMI'] = test['LoanAmount'] / test['Loan_Amount_Term']\n",
    "\n",
    "# BALANCE INCOME\n",
    "train['Balance_Income'] = train['Total_Income'] - (train['EMI']*1000) # *1000 is done to make the units equal for subtraction\n",
    "test['Balance_Income'] = test['Total_Income'] - (test['EMI']*1000) "
   ]
  },
  {
   "cell_type": "markdown",
   "metadata": {},
   "source": [
    "Let's visualize each of the created variables one by one and perform any normalizations if required."
   ]
  },
  {
   "cell_type": "code",
   "execution_count": 70,
   "metadata": {},
   "outputs": [
    {
     "data": {
      "text/plain": [
       "<matplotlib.axes._subplots.AxesSubplot at 0x1ed0e7c7a20>"
      ]
     },
     "execution_count": 70,
     "metadata": {},
     "output_type": "execute_result"
    },
    {
     "data": {
      "image/png": "[encoded data removed]",
      "text/plain": [
       "<Figure size 432x288 with 1 Axes>"
      ]
     },
     "metadata": {
      "needs_background": "light"
     },
     "output_type": "display_data"
    }
   ],
   "source": [
    "# TOTAL_INCOME\n",
    "sns.distplot(train['Total_Income'])"
   ]
  },
  {
   "cell_type": "markdown",
   "metadata": {},
   "source": [
    "The distribution of the above plot is right skewed as the curve is shifted towards the left. We'll take the log transformation to make the distribution normal.<br>\n",
    "<b>Make sure to create a new variable Total_Income_log as we don't want any changes in our Total_Income variable because it is being used to calculate the Balance_Income variable.</b>"
   ]
  },
  {
   "cell_type": "code",
   "execution_count": 71,
   "metadata": {
    "scrolled": true
   },
   "outputs": [
    {
     "data": {
      "text/plain": [
       "<matplotlib.axes._subplots.AxesSubplot at 0x1ed0eaf88d0>"
      ]
     },
     "execution_count": 71,
     "metadata": {},
     "output_type": "execute_result"
    },
    {
     "data": {
      "image/png": "[encoded data removed]",
      "text/plain": [
       "<Figure size 432x288 with 1 Axes>"
      ]
     },
     "metadata": {
      "needs_background": "light"
     },
     "output_type": "display_data"
    }
   ],
   "source": [
    "train['Total_Incom_log'] = np.log(train['Total_Income'])\n",
    "test['Total_Incom_log'] = np.log(test['Total_Income'])\n",
    "\n",
    "sns.distplot(train['Total_Incom_log'])"
   ]
  },
  {
   "cell_type": "markdown",
   "metadata": {},
   "source": [
    "Now the distribution looks much closer to normal and effect of extreme values has been significantly reduced. <br>\n",
    "Let's visualize the distribution of EMI and Balance_Income!"
   ]
  },
  {
   "cell_type": "code",
   "execution_count": 73,
   "metadata": {},
   "outputs": [
    {
     "data": {
      "image/png": "[encoded data removed]",
      "text/plain": [
       "<Figure size 432x288 with 1 Axes>"
      ]
     },
     "metadata": {
      "needs_background": "light"
     },
     "output_type": "display_data"
    },
    {
     "data": {
      "image/png": "[encoded data removed]",
      "text/plain": [
       "<Figure size 432x288 with 1 Axes>"
      ]
     },
     "metadata": {
      "needs_background": "light"
     },
     "output_type": "display_data"
    }
   ],
   "source": [
    "sns.distplot(train['EMI'])\n",
    "plt.show()\n",
    "\n",
    "sns.distplot(train['Balance_Income'])\n",
    "plt.show()"
   ]
  },
  {
   "cell_type": "markdown",
   "metadata": {},
   "source": [
    "We will copy our train and test dataset to a new dataset called train_new and test_new. (We are basically making copies of our dataset to retain its contents and ensure that no changes are made to the original. All chnages will be made in the new copy.)<br>\n",
    "<br>\n",
    "From the new copies of our train and test datasets we will drop all those features which were used to create these new features - EMI, Balance_Income and Total_Income. <br>\n",
    "<br>We will drop 'ApplicantIncome', 'CoapplicantIncome', 'LoanAmount', 'Loan_Amount_Term' as the correlation between these features and the new features will be very high and the linear regression model assumes that the correlation between variables is not too high i.e they are not highly correlated. We aslo wish to remove noise from our dataset and removing these features will help in noise reduction as well."
   ]
  },
  {
   "cell_type": "code",
   "execution_count": 93,
   "metadata": {},
   "outputs": [],
   "source": [
    "train_new = train.drop(['ApplicantIncome', 'CoapplicantIncome', \n",
    "                        'LoanAmount', 'Loan_Amount_Term'],axis = 1)\n",
    "test_new = test.drop(['ApplicantIncome', 'CoapplicantIncome', \n",
    "                        'LoanAmount', 'Loan_Amount_Term'],axis = 1)"
   ]
  },
  {
   "cell_type": "code",
   "execution_count": 106,
   "metadata": {},
   "outputs": [
    {
     "name": "stdout",
     "output_type": "stream",
     "text": [
      "     Credit_History  LoanAmount_Log  Gender_Female  Gender_Male  Married_No  \\\n",
      "0               1.0        4.852030              0            1           1   \n",
      "1               1.0        4.852030              0            1           0   \n",
      "2               1.0        4.189655              0            1           0   \n",
      "3               1.0        4.787492              0            1           0   \n",
      "4               1.0        4.948760              0            1           1   \n",
      "5               1.0        5.587249              0            1           0   \n",
      "6               1.0        4.553877              0            1           0   \n",
      "7               0.0        5.062595              0            1           0   \n",
      "8               1.0        5.123964              0            1           0   \n",
      "9               1.0        5.855072              0            1           0   \n",
      "10              1.0        4.248495              0            1           0   \n",
      "11              1.0        4.691348              0            1           0   \n",
      "12              1.0        5.298317              0            1           0   \n",
      "13              1.0        4.736198              0            1           1   \n",
      "14              1.0        2.833213              0            1           0   \n",
      "15              1.0        4.828314              0            1           1   \n",
      "16              1.0        4.605170              0            1           1   \n",
      "17              0.0        4.330733              1            0           1   \n",
      "18              1.0        4.890349              0            1           0   \n",
      "19              1.0        4.744932              0            1           0   \n",
      "20              0.0        4.644391              0            1           0   \n",
      "21              1.0        5.752573              0            1           0   \n",
      "22              0.0        4.753590              0            1           0   \n",
      "23              0.0        4.718499              0            1           0   \n",
      "24              1.0        5.017280              0            1           0   \n",
      "25              1.0        5.252273              0            1           0   \n",
      "26              1.0        4.804021              0            1           0   \n",
      "27              1.0        4.700480              0            1           0   \n",
      "28              1.0        3.555348              0            1           1   \n",
      "29              1.0        4.787492              1            0           1   \n",
      "..              ...             ...            ...          ...         ...   \n",
      "584             0.0        4.983607              0            1           0   \n",
      "585             1.0        5.147494              0            1           0   \n",
      "586             1.0        4.644391              0            1           0   \n",
      "587             1.0        4.248495              1            0           1   \n",
      "588             1.0        4.543295              0            1           1   \n",
      "589             0.0        4.663439              0            1           0   \n",
      "590             1.0        4.025352              0            1           0   \n",
      "591             1.0        5.323010              0            1           0   \n",
      "592             1.0        5.676754              0            1           1   \n",
      "593             1.0        4.955827              0            1           0   \n",
      "594             1.0        5.560682              0            1           0   \n",
      "595             1.0        4.700480              0            1           1   \n",
      "596             1.0        5.231109              0            1           0   \n",
      "597             0.0        4.477337              0            1           1   \n",
      "598             1.0        5.192957              0            1           0   \n",
      "599             1.0        5.257495              0            1           0   \n",
      "600             1.0        5.857933              1            0           1   \n",
      "601             1.0        5.043425              0            1           0   \n",
      "602             1.0        4.852030              0            1           0   \n",
      "603             1.0        5.147494              0            1           1   \n",
      "604             1.0        6.206576              1            0           0   \n",
      "605             1.0        4.852030              0            1           0   \n",
      "606             1.0        5.153292              0            1           0   \n",
      "607             1.0        5.056246              0            1           0   \n",
      "608             1.0        4.682131              0            1           0   \n",
      "609             1.0        4.262680              1            0           1   \n",
      "610             1.0        3.688879              0            1           0   \n",
      "611             1.0        5.533389              0            1           0   \n",
      "612             1.0        5.231109              0            1           0   \n",
      "613             0.0        4.890349              1            0           1   \n",
      "\n",
      "     Married_Yes  Dependents_3  Dependents_0  Dependents_1  Dependents_2  ...  \\\n",
      "0              0             0             1             0             0  ...   \n",
      "1              1             0             0             1             0  ...   \n",
      "2              1             0             1             0             0  ...   \n",
      "3              1             0             1             0             0  ...   \n",
      "4              0             0             1             0             0  ...   \n",
      "5              1             0             0             0             1  ...   \n",
      "6              1             0             1             0             0  ...   \n",
      "7              1             1             0             0             0  ...   \n",
      "8              1             0             0             0             1  ...   \n",
      "9              1             0             0             1             0  ...   \n",
      "10             1             0             0             0             1  ...   \n",
      "11             1             0             0             0             1  ...   \n",
      "12             1             0             0             0             1  ...   \n",
      "13             0             0             1             0             0  ...   \n",
      "14             1             0             0             0             1  ...   \n",
      "15             0             0             1             0             0  ...   \n",
      "16             0             0             0             1             0  ...   \n",
      "17             0             0             1             0             0  ...   \n",
      "18             1             0             1             0             0  ...   \n",
      "19             1             0             1             0             0  ...   \n",
      "20             1             0             1             0             0  ...   \n",
      "21             1             0             0             1             0  ...   \n",
      "22             1             0             1             0             0  ...   \n",
      "23             1             0             0             0             1  ...   \n",
      "24             1             0             0             1             0  ...   \n",
      "25             1             0             1             0             0  ...   \n",
      "26             1             0             1             0             0  ...   \n",
      "27             1             0             0             0             1  ...   \n",
      "28             0             0             1             0             0  ...   \n",
      "29             0             0             0             0             1  ...   \n",
      "..           ...           ...           ...           ...           ...  ...   \n",
      "584            1             0             0             1             0  ...   \n",
      "585            1             0             0             1             0  ...   \n",
      "586            1             0             1             0             0  ...   \n",
      "587            0             0             1             0             0  ...   \n",
      "588            0             0             1             0             0  ...   \n",
      "589            1             0             0             0             1  ...   \n",
      "590            1             0             1             0             0  ...   \n",
      "591            1             0             0             0             1  ...   \n",
      "592            0             1             0             0             0  ...   \n",
      "593            1             0             1             0             0  ...   \n",
      "594            1             0             1             0             0  ...   \n",
      "595            0             0             1             0             0  ...   \n",
      "596            1             0             0             0             1  ...   \n",
      "597            0             0             1             0             0  ...   \n",
      "598            1             0             1             0             0  ...   \n",
      "599            1             0             0             0             1  ...   \n",
      "600            0             1             0             0             0  ...   \n",
      "601            1             0             1             0             0  ...   \n",
      "602            1             1             0             0             0  ...   \n",
      "603            0             0             1             0             0  ...   \n",
      "604            1             0             0             1             0  ...   \n",
      "605            1             0             1             0             0  ...   \n",
      "606            1             0             0             1             0  ...   \n",
      "607            1             0             0             0             1  ...   \n",
      "608            1             0             1             0             0  ...   \n",
      "609            0             0             1             0             0  ...   \n",
      "610            1             1             0             0             0  ...   \n",
      "611            1             0             0             1             0  ...   \n",
      "612            1             0             0             0             1  ...   \n",
      "613            0             0             1             0             0  ...   \n",
      "\n",
      "     Education_Not Graduate  Self_Employed_No  Self_Employed_Yes  \\\n",
      "0                         0                 1                  0   \n",
      "1                         0                 1                  0   \n",
      "2                         0                 0                  1   \n",
      "3                         1                 1                  0   \n",
      "4                         0                 1                  0   \n",
      "5                         0                 0                  1   \n",
      "6                         1                 1                  0   \n",
      "7                         0                 1                  0   \n",
      "8                         0                 1                  0   \n",
      "9                         0                 1                  0   \n",
      "10                        0                 1                  0   \n",
      "11                        0                 1                  0   \n",
      "12                        0                 1                  0   \n",
      "13                        0                 1                  0   \n",
      "14                        0                 1                  0   \n",
      "15                        0                 1                  0   \n",
      "16                        1                 1                  0   \n",
      "17                        0                 1                  0   \n",
      "18                        1                 1                  0   \n",
      "19                        0                 1                  0   \n",
      "20                        1                 1                  0   \n",
      "21                        0                 1                  0   \n",
      "22                        1                 1                  0   \n",
      "23                        1                 1                  0   \n",
      "24                        0                 1                  0   \n",
      "25                        0                 0                  1   \n",
      "26                        0                 1                  0   \n",
      "27                        1                 1                  0   \n",
      "28                        1                 1                  0   \n",
      "29                        0                 1                  0   \n",
      "..                      ...               ...                ...   \n",
      "584                       0                 1                  0   \n",
      "585                       0                 1                  0   \n",
      "586                       0                 1                  0   \n",
      "587                       1                 1                  0   \n",
      "588                       0                 1                  0   \n",
      "589                       0                 0                  1   \n",
      "590                       0                 1                  0   \n",
      "591                       0                 0                  1   \n",
      "592                       0                 0                  1   \n",
      "593                       0                 1                  0   \n",
      "594                       0                 0                  1   \n",
      "595                       1                 1                  0   \n",
      "596                       1                 0                  1   \n",
      "597                       0                 1                  0   \n",
      "598                       0                 0                  1   \n",
      "599                       0                 1                  0   \n",
      "600                       0                 1                  0   \n",
      "601                       1                 1                  0   \n",
      "602                       0                 1                  0   \n",
      "603                       0                 1                  0   \n",
      "604                       0                 1                  0   \n",
      "605                       1                 1                  0   \n",
      "606                       0                 1                  0   \n",
      "607                       1                 1                  0   \n",
      "608                       0                 1                  0   \n",
      "609                       0                 1                  0   \n",
      "610                       0                 1                  0   \n",
      "611                       0                 1                  0   \n",
      "612                       0                 1                  0   \n",
      "613                       0                 0                  1   \n",
      "\n",
      "     Property_Area_Rural  Property_Area_Semiurban  Property_Area_Urban  \\\n",
      "0                      0                        0                    1   \n",
      "1                      1                        0                    0   \n",
      "2                      0                        0                    1   \n",
      "3                      0                        0                    1   \n",
      "4                      0                        0                    1   \n",
      "5                      0                        0                    1   \n",
      "6                      0                        0                    1   \n",
      "7                      0                        1                    0   \n",
      "8                      0                        0                    1   \n",
      "9                      0                        1                    0   \n",
      "10                     0                        0                    1   \n",
      "11                     0                        0                    1   \n",
      "12                     0                        0                    1   \n",
      "13                     1                        0                    0   \n",
      "14                     0                        0                    1   \n",
      "15                     0                        0                    1   \n",
      "16                     0                        0                    1   \n",
      "17                     0                        0                    1   \n",
      "18                     1                        0                    0   \n",
      "19                     0                        0                    1   \n",
      "20                     0                        0                    1   \n",
      "21                     0                        0                    1   \n",
      "22                     0                        1                    0   \n",
      "23                     1                        0                    0   \n",
      "24                     0                        1                    0   \n",
      "25                     0                        1                    0   \n",
      "26                     0                        1                    0   \n",
      "27                     0                        0                    1   \n",
      "28                     0                        0                    1   \n",
      "29                     0                        1                    0   \n",
      "..                   ...                      ...                  ...   \n",
      "584                    1                        0                    0   \n",
      "585                    1                        0                    0   \n",
      "586                    0                        0                    1   \n",
      "587                    0                        1                    0   \n",
      "588                    0                        1                    0   \n",
      "589                    0                        1                    0   \n",
      "590                    0                        1                    0   \n",
      "591                    0                        1                    0   \n",
      "592                    0                        1                    0   \n",
      "593                    1                        0                    0   \n",
      "594                    0                        0                    1   \n",
      "595                    1                        0                    0   \n",
      "596                    1                        0                    0   \n",
      "597                    0                        1                    0   \n",
      "598                    1                        0                    0   \n",
      "599                    0                        0                    1   \n",
      "600                    0                        0                    1   \n",
      "601                    1                        0                    0   \n",
      "602                    0                        0                    1   \n",
      "603                    1                        0                    0   \n",
      "604                    0                        1                    0   \n",
      "605                    0                        0                    1   \n",
      "606                    0                        1                    0   \n",
      "607                    1                        0                    0   \n",
      "608                    1                        0                    0   \n",
      "609                    1                        0                    0   \n",
      "610                    1                        0                    0   \n",
      "611                    0                        0                    1   \n",
      "612                    0                        0                    1   \n",
      "613                    0                        1                    0   \n",
      "\n",
      "     Total_Income       EMI  Balance_Income  Total_Incom_log  \n",
      "0          5849.0  0.355556     5493.444444         8.674026  \n",
      "1          6091.0  0.355556     5735.444444         8.714568  \n",
      "2          3000.0  0.183333     2816.666667         8.006368  \n",
      "3          4941.0  0.333333     4607.666667         8.505323  \n",
      "4          6000.0  0.391667     5608.333333         8.699515  \n",
      "5          9613.0  0.741667     8871.333333         9.170872  \n",
      "6          3849.0  0.263889     3585.111111         8.255569  \n",
      "7          5540.0  0.438889     5101.111111         8.619750  \n",
      "8          5532.0  0.466667     5065.333333         8.618305  \n",
      "9         23809.0  0.969444    22839.555556        10.077819  \n",
      "10         3900.0  0.194444     3705.555556         8.268732  \n",
      "11         4340.0  0.302778     4037.222222         8.375630  \n",
      "12        11179.0  0.555556    10623.444444         9.321792  \n",
      "13         4693.0  0.316667     4376.333333         8.453827  \n",
      "14         2385.0  0.141667     2243.333333         7.776954  \n",
      "15         4950.0  0.347222     4602.777778         8.507143  \n",
      "16         3596.0  0.416667     3179.333333         8.187577  \n",
      "17         3510.0  0.211111     3298.888889         8.163371  \n",
      "18         4887.0  0.369444     4517.555556         8.494334  \n",
      "19         6100.0  0.319444     5780.555556         8.716044  \n",
      "20         7660.0  0.288889     7371.111111         8.943767  \n",
      "21        11580.0  0.875000    10705.000000         9.357035  \n",
      "22         4511.0  0.322222     4188.777778         8.414274  \n",
      "23         5282.0  0.311111     4970.888889         8.572060  \n",
      "24         6642.0  0.419444     6222.555556         8.801168  \n",
      "25         9560.0  0.530556     9029.444444         9.165343  \n",
      "26         5052.0  0.338889     4713.111111         8.527539  \n",
      "27         5266.0  0.305556     4960.444444         8.569026  \n",
      "28         1442.0  0.097222     1344.777778         7.273786  \n",
      "29         5833.0  0.333333     5499.666667         8.671287  \n",
      "..            ...       ...             ...              ...  \n",
      "584        4704.0  0.405556     4298.444444         8.456168  \n",
      "585        7283.0  2.047619     5235.380952         8.893298  \n",
      "586        3819.0  0.288889     3530.111111         8.247744  \n",
      "587        2165.0  0.194444     1970.555556         7.680176  \n",
      "588        4750.0  0.261111     4488.888889         8.465900  \n",
      "589        2726.0  0.294444     2431.555556         7.910591  \n",
      "590        6416.0  0.311111     6104.888889         8.766550  \n",
      "591        6000.0  0.854167     5145.833333         8.699515  \n",
      "592        9357.0  0.811111     8545.888889         9.143880  \n",
      "593        7159.0  0.788889     6370.111111         8.876126  \n",
      "594       16120.0  0.722222    15397.777778         9.687816  \n",
      "595        3833.0  0.305556     3527.444444         8.251403  \n",
      "596        7383.0  0.519444     6863.555556         8.906935  \n",
      "597        2987.0  0.244444     2742.555556         8.002025  \n",
      "598        9963.0  0.500000     9463.000000         9.206634  \n",
      "599        5780.0  0.533333     5246.666667         8.662159  \n",
      "600       42083.0  1.944444    40138.555556        10.647399  \n",
      "601        5686.0  0.430556     5255.444444         8.645762  \n",
      "602        5703.0  0.355556     5347.444444         8.648748  \n",
      "603        7977.0  0.477778     7499.222222         8.984318  \n",
      "604       12000.0  1.377778    10622.222222         9.392662  \n",
      "605        6200.0  0.711111     5488.888889         8.732305  \n",
      "606        5900.0  0.480556     5419.444444         8.682708  \n",
      "607        5398.0  0.436111     4961.888889         8.593784  \n",
      "608        5182.0  0.300000     4882.000000         8.552946  \n",
      "609        2900.0  0.197222     2702.777778         7.972466  \n",
      "610        4106.0  0.222222     3883.777778         8.320205  \n",
      "611        8312.0  0.702778     7609.222222         9.025456  \n",
      "612        7583.0  0.519444     7063.555556         8.933664  \n",
      "613        4583.0  0.369444     4213.555556         8.430109  \n",
      "\n",
      "[614 rows x 21 columns]\n"
     ]
    }
   ],
   "source": [
    "# our train_new dataset has the loan_Status divided into Loan_Status_N and Loan_Status_Y\n",
    "y1 = pd.get_dummies(train_new[['Loan_Status_Y']])\n",
    "\n",
    "X1 = pd.get_dummies(train_new.drop(['Loan_Status_N','Loan_Status_Y'],1))\n",
    "print(X1)"
   ]
  },
  {
   "cell_type": "code",
   "execution_count": 107,
   "metadata": {},
   "outputs": [
    {
     "name": "stdout",
     "output_type": "stream",
     "text": [
      "\n",
      "1 of kfold 5\n",
      "accuracy score is  0.7983870967741935\n",
      "\n",
      "2 of kfold 5\n",
      "accuracy score is  0.8225806451612904\n",
      "\n",
      "3 of kfold 5\n",
      "accuracy score is  0.7786885245901639\n",
      "\n",
      "4 of kfold 5\n",
      "accuracy score is  0.7868852459016393\n",
      "\n",
      "5 of kfold 5\n",
      "accuracy score is  0.819672131147541\n"
     ]
    },
    {
     "ename": "ValueError",
     "evalue": "X has 25 features per sample; expecting 21",
     "output_type": "error",
     "traceback": [
      "\u001b[1;31m---------------------------------------------------------------------------\u001b[0m",
      "\u001b[1;31mValueError\u001b[0m                                Traceback (most recent call last)",
      "\u001b[1;32m<ipython-input-107-a49c2a3cdc6f>\u001b[0m in \u001b[0;36m<module>\u001b[1;34m\u001b[0m\n\u001b[0;32m     15\u001b[0m     \u001b[0mi\u001b[0m\u001b[1;33m+=\u001b[0m\u001b[1;36m1\u001b[0m\u001b[1;33m\u001b[0m\u001b[1;33m\u001b[0m\u001b[0m\n\u001b[0;32m     16\u001b[0m \u001b[1;33m\u001b[0m\u001b[0m\n\u001b[1;32m---> 17\u001b[1;33m \u001b[0mpred_test\u001b[0m \u001b[1;33m=\u001b[0m \u001b[0mmodel\u001b[0m\u001b[1;33m.\u001b[0m\u001b[0mpredict\u001b[0m\u001b[1;33m(\u001b[0m\u001b[0mtest\u001b[0m\u001b[1;33m)\u001b[0m\u001b[1;33m\u001b[0m\u001b[1;33m\u001b[0m\u001b[0m\n\u001b[0m\u001b[0;32m     18\u001b[0m \u001b[0mpred\u001b[0m \u001b[1;33m=\u001b[0m \u001b[0mmodel\u001b[0m\u001b[1;33m.\u001b[0m\u001b[0mpredict_proba\u001b[0m\u001b[1;33m(\u001b[0m\u001b[0mxvl\u001b[0m\u001b[1;33m)\u001b[0m\u001b[1;33m[\u001b[0m\u001b[1;33m:\u001b[0m\u001b[1;33m,\u001b[0m\u001b[1;36m1\u001b[0m\u001b[1;33m]\u001b[0m\u001b[1;33m\u001b[0m\u001b[1;33m\u001b[0m\u001b[0m\n",
      "\u001b[1;32m~\\Anaconda3\\lib\\site-packages\\sklearn\\linear_model\\base.py\u001b[0m in \u001b[0;36mpredict\u001b[1;34m(self, X)\u001b[0m\n\u001b[0;32m    279\u001b[0m             \u001b[0mPredicted\u001b[0m \u001b[1;32mclass\u001b[0m \u001b[0mlabel\u001b[0m \u001b[0mper\u001b[0m \u001b[0msample\u001b[0m\u001b[1;33m.\u001b[0m\u001b[1;33m\u001b[0m\u001b[1;33m\u001b[0m\u001b[0m\n\u001b[0;32m    280\u001b[0m         \"\"\"\n\u001b[1;32m--> 281\u001b[1;33m         \u001b[0mscores\u001b[0m \u001b[1;33m=\u001b[0m \u001b[0mself\u001b[0m\u001b[1;33m.\u001b[0m\u001b[0mdecision_function\u001b[0m\u001b[1;33m(\u001b[0m\u001b[0mX\u001b[0m\u001b[1;33m)\u001b[0m\u001b[1;33m\u001b[0m\u001b[1;33m\u001b[0m\u001b[0m\n\u001b[0m\u001b[0;32m    282\u001b[0m         \u001b[1;32mif\u001b[0m \u001b[0mlen\u001b[0m\u001b[1;33m(\u001b[0m\u001b[0mscores\u001b[0m\u001b[1;33m.\u001b[0m\u001b[0mshape\u001b[0m\u001b[1;33m)\u001b[0m \u001b[1;33m==\u001b[0m \u001b[1;36m1\u001b[0m\u001b[1;33m:\u001b[0m\u001b[1;33m\u001b[0m\u001b[1;33m\u001b[0m\u001b[0m\n\u001b[0;32m    283\u001b[0m             \u001b[0mindices\u001b[0m \u001b[1;33m=\u001b[0m \u001b[1;33m(\u001b[0m\u001b[0mscores\u001b[0m \u001b[1;33m>\u001b[0m \u001b[1;36m0\u001b[0m\u001b[1;33m)\u001b[0m\u001b[1;33m.\u001b[0m\u001b[0mastype\u001b[0m\u001b[1;33m(\u001b[0m\u001b[0mnp\u001b[0m\u001b[1;33m.\u001b[0m\u001b[0mint\u001b[0m\u001b[1;33m)\u001b[0m\u001b[1;33m\u001b[0m\u001b[1;33m\u001b[0m\u001b[0m\n",
      "\u001b[1;32m~\\Anaconda3\\lib\\site-packages\\sklearn\\linear_model\\base.py\u001b[0m in \u001b[0;36mdecision_function\u001b[1;34m(self, X)\u001b[0m\n\u001b[0;32m    260\u001b[0m         \u001b[1;32mif\u001b[0m \u001b[0mX\u001b[0m\u001b[1;33m.\u001b[0m\u001b[0mshape\u001b[0m\u001b[1;33m[\u001b[0m\u001b[1;36m1\u001b[0m\u001b[1;33m]\u001b[0m \u001b[1;33m!=\u001b[0m \u001b[0mn_features\u001b[0m\u001b[1;33m:\u001b[0m\u001b[1;33m\u001b[0m\u001b[1;33m\u001b[0m\u001b[0m\n\u001b[0;32m    261\u001b[0m             raise ValueError(\"X has %d features per sample; expecting %d\"\n\u001b[1;32m--> 262\u001b[1;33m                              % (X.shape[1], n_features))\n\u001b[0m\u001b[0;32m    263\u001b[0m \u001b[1;33m\u001b[0m\u001b[0m\n\u001b[0;32m    264\u001b[0m         scores = safe_sparse_dot(X, self.coef_.T,\n",
      "\u001b[1;31mValueError\u001b[0m: X has 25 features per sample; expecting 21"
     ]
    }
   ],
   "source": [
    "# LOGISTIC REGRESSION MODEL \n",
    "\n",
    "i=1\n",
    "kf = StratifiedKFold(n_splits = 5, random_state = 1, shuffle =True)\n",
    "for train_index, test_index in kf.split(X1,y1):\n",
    "    print('\\n{} of kfold {}'.format(i,kf.n_splits))\n",
    "    xtr,xvl = X1.loc[train_index], X1.loc[test_index]  #xtr = xtrain, xvl = xvalidate\n",
    "    ytr,yvl = y1.loc[train_index], y1.loc[test_index]  #ytr = ytrain, yvl = yvalidate\n",
    "    \n",
    "    model =LogisticRegression(random_state=1)\n",
    "    model.fit(xtr,ytr)\n",
    "    pred_test = model.predict(xvl)\n",
    "    score = accuracy_score(yvl,pred_test)\n",
    "    print('accuracy score is ',score)\n",
    "    i+=1\n",
    "    \n",
    "pred_test = model.predict(test)\n",
    "pred = model.predict_proba(xvl)[:,1]"
   ]
  },
  {
   "cell_type": "markdown",
   "metadata": {},
   "source": [
    "Accuracy of model is 80% i.e average of above accuracy scores is 80%. Feature Engineering has not improved our model."
   ]
  },
  {
   "cell_type": "code",
   "execution_count": 111,
   "metadata": {},
   "outputs": [
    {
     "name": "stdout",
     "output_type": "stream",
     "text": [
      "\n",
      "1 of kfold 5\n",
      "accuracy_score 0.7258064516129032\n",
      "\n",
      "2 of kfold 5\n",
      "accuracy_score 0.7258064516129032\n",
      "\n",
      "3 of kfold 5\n",
      "accuracy_score 0.7049180327868853\n",
      "\n",
      "4 of kfold 5\n",
      "accuracy_score 0.6557377049180327\n",
      "\n",
      "5 of kfold 5\n",
      "accuracy_score 0.6967213114754098\n"
     ]
    },
    {
     "ename": "ValueError",
     "evalue": "Number of features of the model must match the input. Model n_features is 21 and input n_features is 25 ",
     "output_type": "error",
     "traceback": [
      "\u001b[1;31m---------------------------------------------------------------------------\u001b[0m",
      "\u001b[1;31mValueError\u001b[0m                                Traceback (most recent call last)",
      "\u001b[1;32m<ipython-input-111-f6f60ce84d06>\u001b[0m in \u001b[0;36m<module>\u001b[1;34m\u001b[0m\n\u001b[0;32m     15\u001b[0m     \u001b[0mi\u001b[0m\u001b[1;33m+=\u001b[0m\u001b[1;36m1\u001b[0m\u001b[1;33m\u001b[0m\u001b[1;33m\u001b[0m\u001b[0m\n\u001b[0;32m     16\u001b[0m \u001b[1;33m\u001b[0m\u001b[0m\n\u001b[1;32m---> 17\u001b[1;33m \u001b[0mpred_test\u001b[0m \u001b[1;33m=\u001b[0m \u001b[0mmodel\u001b[0m\u001b[1;33m.\u001b[0m\u001b[0mpredict\u001b[0m\u001b[1;33m(\u001b[0m\u001b[0mtest\u001b[0m\u001b[1;33m)\u001b[0m\u001b[1;33m\u001b[0m\u001b[1;33m\u001b[0m\u001b[0m\n\u001b[0m\u001b[0;32m     18\u001b[0m \u001b[0mpred\u001b[0m \u001b[1;33m=\u001b[0m \u001b[0mmodel\u001b[0m\u001b[1;33m.\u001b[0m\u001b[0mpredict_proba\u001b[0m\u001b[1;33m(\u001b[0m\u001b[0mxvl\u001b[0m\u001b[1;33m)\u001b[0m\u001b[1;33m[\u001b[0m\u001b[1;33m:\u001b[0m\u001b[1;33m,\u001b[0m\u001b[1;36m1\u001b[0m\u001b[1;33m]\u001b[0m\u001b[1;33m\u001b[0m\u001b[1;33m\u001b[0m\u001b[0m\n",
      "\u001b[1;32m~\\Anaconda3\\lib\\site-packages\\sklearn\\tree\\tree.py\u001b[0m in \u001b[0;36mpredict\u001b[1;34m(self, X, check_input)\u001b[0m\n\u001b[0;32m    414\u001b[0m         \"\"\"\n\u001b[0;32m    415\u001b[0m         \u001b[0mcheck_is_fitted\u001b[0m\u001b[1;33m(\u001b[0m\u001b[0mself\u001b[0m\u001b[1;33m,\u001b[0m \u001b[1;34m'tree_'\u001b[0m\u001b[1;33m)\u001b[0m\u001b[1;33m\u001b[0m\u001b[1;33m\u001b[0m\u001b[0m\n\u001b[1;32m--> 416\u001b[1;33m         \u001b[0mX\u001b[0m \u001b[1;33m=\u001b[0m \u001b[0mself\u001b[0m\u001b[1;33m.\u001b[0m\u001b[0m_validate_X_predict\u001b[0m\u001b[1;33m(\u001b[0m\u001b[0mX\u001b[0m\u001b[1;33m,\u001b[0m \u001b[0mcheck_input\u001b[0m\u001b[1;33m)\u001b[0m\u001b[1;33m\u001b[0m\u001b[1;33m\u001b[0m\u001b[0m\n\u001b[0m\u001b[0;32m    417\u001b[0m         \u001b[0mproba\u001b[0m \u001b[1;33m=\u001b[0m \u001b[0mself\u001b[0m\u001b[1;33m.\u001b[0m\u001b[0mtree_\u001b[0m\u001b[1;33m.\u001b[0m\u001b[0mpredict\u001b[0m\u001b[1;33m(\u001b[0m\u001b[0mX\u001b[0m\u001b[1;33m)\u001b[0m\u001b[1;33m\u001b[0m\u001b[1;33m\u001b[0m\u001b[0m\n\u001b[0;32m    418\u001b[0m         \u001b[0mn_samples\u001b[0m \u001b[1;33m=\u001b[0m \u001b[0mX\u001b[0m\u001b[1;33m.\u001b[0m\u001b[0mshape\u001b[0m\u001b[1;33m[\u001b[0m\u001b[1;36m0\u001b[0m\u001b[1;33m]\u001b[0m\u001b[1;33m\u001b[0m\u001b[1;33m\u001b[0m\u001b[0m\n",
      "\u001b[1;32m~\\Anaconda3\\lib\\site-packages\\sklearn\\tree\\tree.py\u001b[0m in \u001b[0;36m_validate_X_predict\u001b[1;34m(self, X, check_input)\u001b[0m\n\u001b[0;32m    386\u001b[0m                              \u001b[1;34m\"match the input. Model n_features is %s and \"\u001b[0m\u001b[1;33m\u001b[0m\u001b[1;33m\u001b[0m\u001b[0m\n\u001b[0;32m    387\u001b[0m                              \u001b[1;34m\"input n_features is %s \"\u001b[0m\u001b[1;33m\u001b[0m\u001b[1;33m\u001b[0m\u001b[0m\n\u001b[1;32m--> 388\u001b[1;33m                              % (self.n_features_, n_features))\n\u001b[0m\u001b[0;32m    389\u001b[0m \u001b[1;33m\u001b[0m\u001b[0m\n\u001b[0;32m    390\u001b[0m         \u001b[1;32mreturn\u001b[0m \u001b[0mX\u001b[0m\u001b[1;33m\u001b[0m\u001b[1;33m\u001b[0m\u001b[0m\n",
      "\u001b[1;31mValueError\u001b[0m: Number of features of the model must match the input. Model n_features is 21 and input n_features is 25 "
     ]
    }
   ],
   "source": [
    "# DECISION TREE MODEL\n",
    "\n",
    "from sklearn import tree\n",
    "i=1\n",
    "kf = StratifiedKFold(n_splits = 5, random_state =1 ,shuffle = True)\n",
    "for train_index, test_index in kf.split(X1,y1):\n",
    "    print('\\n{} of kfold {}'.format(i,kf.n_splits))     \n",
    "    xtr,xvl = X1.loc[train_index],X1.loc[test_index]     \n",
    "    ytr,yvl = y1.loc[train_index],y1.loc[test_index]\n",
    "    model = tree.DecisionTreeClassifier(random_state = 1)\n",
    "    model.fit(xtr,ytr)\n",
    "    pred_test = model.predict(xvl)\n",
    "    score = accuracy_score(yvl,pred_test)\n",
    "    print('accuracy_score',score)     \n",
    "    i+=1\n",
    "    \n",
    "pred_test = model.predict(test)\n",
    "pred = model.predict_proba(xvl)[:,1]"
   ]
  },
  {
   "cell_type": "markdown",
   "metadata": {},
   "source": [
    "Accuracy of the above model is just 70%."
   ]
  },
  {
   "cell_type": "code",
   "execution_count": 112,
   "metadata": {},
   "outputs": [
    {
     "name": "stdout",
     "output_type": "stream",
     "text": [
      "\n",
      "1 of kfold 5\n",
      "accuracy_score 0.782258064516129\n",
      "\n",
      "2 of kfold 5\n",
      "accuracy_score 0.8306451612903226\n",
      "\n",
      "3 of kfold 5\n",
      "accuracy_score 0.7622950819672131\n",
      "\n",
      "4 of kfold 5\n",
      "accuracy_score 0.7377049180327869\n",
      "\n",
      "5 of kfold 5\n",
      "accuracy_score 0.8360655737704918\n"
     ]
    },
    {
     "ename": "ValueError",
     "evalue": "Number of features of the model must match the input. Model n_features is 21 and input n_features is 25 ",
     "output_type": "error",
     "traceback": [
      "\u001b[1;31m---------------------------------------------------------------------------\u001b[0m",
      "\u001b[1;31mValueError\u001b[0m                                Traceback (most recent call last)",
      "\u001b[1;32m<ipython-input-112-c3b9fcbcdce4>\u001b[0m in \u001b[0;36m<module>\u001b[1;34m\u001b[0m\n\u001b[0;32m     15\u001b[0m     \u001b[0mi\u001b[0m\u001b[1;33m+=\u001b[0m\u001b[1;36m1\u001b[0m\u001b[1;33m\u001b[0m\u001b[1;33m\u001b[0m\u001b[0m\n\u001b[0;32m     16\u001b[0m \u001b[1;33m\u001b[0m\u001b[0m\n\u001b[1;32m---> 17\u001b[1;33m \u001b[0mpred_test\u001b[0m \u001b[1;33m=\u001b[0m \u001b[0mmodel\u001b[0m\u001b[1;33m.\u001b[0m\u001b[0mpredict\u001b[0m\u001b[1;33m(\u001b[0m\u001b[0mtest\u001b[0m\u001b[1;33m)\u001b[0m\u001b[1;33m\u001b[0m\u001b[1;33m\u001b[0m\u001b[0m\n\u001b[0m\u001b[0;32m     18\u001b[0m \u001b[0mpred\u001b[0m \u001b[1;33m=\u001b[0m \u001b[0mmodel\u001b[0m\u001b[1;33m.\u001b[0m\u001b[0mpredict_proba\u001b[0m\u001b[1;33m(\u001b[0m\u001b[0mxvl\u001b[0m\u001b[1;33m)\u001b[0m\u001b[1;33m[\u001b[0m\u001b[1;33m:\u001b[0m\u001b[1;33m,\u001b[0m\u001b[1;36m1\u001b[0m\u001b[1;33m]\u001b[0m\u001b[1;33m\u001b[0m\u001b[1;33m\u001b[0m\u001b[0m\n",
      "\u001b[1;32m~\\Anaconda3\\lib\\site-packages\\sklearn\\ensemble\\forest.py\u001b[0m in \u001b[0;36mpredict\u001b[1;34m(self, X)\u001b[0m\n\u001b[0;32m    541\u001b[0m             \u001b[0mThe\u001b[0m \u001b[0mpredicted\u001b[0m \u001b[0mclasses\u001b[0m\u001b[1;33m.\u001b[0m\u001b[1;33m\u001b[0m\u001b[1;33m\u001b[0m\u001b[0m\n\u001b[0;32m    542\u001b[0m         \"\"\"\n\u001b[1;32m--> 543\u001b[1;33m         \u001b[0mproba\u001b[0m \u001b[1;33m=\u001b[0m \u001b[0mself\u001b[0m\u001b[1;33m.\u001b[0m\u001b[0mpredict_proba\u001b[0m\u001b[1;33m(\u001b[0m\u001b[0mX\u001b[0m\u001b[1;33m)\u001b[0m\u001b[1;33m\u001b[0m\u001b[1;33m\u001b[0m\u001b[0m\n\u001b[0m\u001b[0;32m    544\u001b[0m \u001b[1;33m\u001b[0m\u001b[0m\n\u001b[0;32m    545\u001b[0m         \u001b[1;32mif\u001b[0m \u001b[0mself\u001b[0m\u001b[1;33m.\u001b[0m\u001b[0mn_outputs_\u001b[0m \u001b[1;33m==\u001b[0m \u001b[1;36m1\u001b[0m\u001b[1;33m:\u001b[0m\u001b[1;33m\u001b[0m\u001b[1;33m\u001b[0m\u001b[0m\n",
      "\u001b[1;32m~\\Anaconda3\\lib\\site-packages\\sklearn\\ensemble\\forest.py\u001b[0m in \u001b[0;36mpredict_proba\u001b[1;34m(self, X)\u001b[0m\n\u001b[0;32m    581\u001b[0m         \u001b[0mcheck_is_fitted\u001b[0m\u001b[1;33m(\u001b[0m\u001b[0mself\u001b[0m\u001b[1;33m,\u001b[0m \u001b[1;34m'estimators_'\u001b[0m\u001b[1;33m)\u001b[0m\u001b[1;33m\u001b[0m\u001b[1;33m\u001b[0m\u001b[0m\n\u001b[0;32m    582\u001b[0m         \u001b[1;31m# Check data\u001b[0m\u001b[1;33m\u001b[0m\u001b[1;33m\u001b[0m\u001b[1;33m\u001b[0m\u001b[0m\n\u001b[1;32m--> 583\u001b[1;33m         \u001b[0mX\u001b[0m \u001b[1;33m=\u001b[0m \u001b[0mself\u001b[0m\u001b[1;33m.\u001b[0m\u001b[0m_validate_X_predict\u001b[0m\u001b[1;33m(\u001b[0m\u001b[0mX\u001b[0m\u001b[1;33m)\u001b[0m\u001b[1;33m\u001b[0m\u001b[1;33m\u001b[0m\u001b[0m\n\u001b[0m\u001b[0;32m    584\u001b[0m \u001b[1;33m\u001b[0m\u001b[0m\n\u001b[0;32m    585\u001b[0m         \u001b[1;31m# Assign chunk of trees to jobs\u001b[0m\u001b[1;33m\u001b[0m\u001b[1;33m\u001b[0m\u001b[1;33m\u001b[0m\u001b[0m\n",
      "\u001b[1;32m~\\Anaconda3\\lib\\site-packages\\sklearn\\ensemble\\forest.py\u001b[0m in \u001b[0;36m_validate_X_predict\u001b[1;34m(self, X)\u001b[0m\n\u001b[0;32m    360\u001b[0m                                  \"call `fit` before exploiting the model.\")\n\u001b[0;32m    361\u001b[0m \u001b[1;33m\u001b[0m\u001b[0m\n\u001b[1;32m--> 362\u001b[1;33m         \u001b[1;32mreturn\u001b[0m \u001b[0mself\u001b[0m\u001b[1;33m.\u001b[0m\u001b[0mestimators_\u001b[0m\u001b[1;33m[\u001b[0m\u001b[1;36m0\u001b[0m\u001b[1;33m]\u001b[0m\u001b[1;33m.\u001b[0m\u001b[0m_validate_X_predict\u001b[0m\u001b[1;33m(\u001b[0m\u001b[0mX\u001b[0m\u001b[1;33m,\u001b[0m \u001b[0mcheck_input\u001b[0m\u001b[1;33m=\u001b[0m\u001b[1;32mTrue\u001b[0m\u001b[1;33m)\u001b[0m\u001b[1;33m\u001b[0m\u001b[1;33m\u001b[0m\u001b[0m\n\u001b[0m\u001b[0;32m    363\u001b[0m \u001b[1;33m\u001b[0m\u001b[0m\n\u001b[0;32m    364\u001b[0m     \u001b[1;33m@\u001b[0m\u001b[0mproperty\u001b[0m\u001b[1;33m\u001b[0m\u001b[1;33m\u001b[0m\u001b[0m\n",
      "\u001b[1;32m~\\Anaconda3\\lib\\site-packages\\sklearn\\tree\\tree.py\u001b[0m in \u001b[0;36m_validate_X_predict\u001b[1;34m(self, X, check_input)\u001b[0m\n\u001b[0;32m    386\u001b[0m                              \u001b[1;34m\"match the input. Model n_features is %s and \"\u001b[0m\u001b[1;33m\u001b[0m\u001b[1;33m\u001b[0m\u001b[0m\n\u001b[0;32m    387\u001b[0m                              \u001b[1;34m\"input n_features is %s \"\u001b[0m\u001b[1;33m\u001b[0m\u001b[1;33m\u001b[0m\u001b[0m\n\u001b[1;32m--> 388\u001b[1;33m                              % (self.n_features_, n_features))\n\u001b[0m\u001b[0;32m    389\u001b[0m \u001b[1;33m\u001b[0m\u001b[0m\n\u001b[0;32m    390\u001b[0m         \u001b[1;32mreturn\u001b[0m \u001b[0mX\u001b[0m\u001b[1;33m\u001b[0m\u001b[1;33m\u001b[0m\u001b[0m\n",
      "\u001b[1;31mValueError\u001b[0m: Number of features of the model must match the input. Model n_features is 21 and input n_features is 25 "
     ]
    }
   ],
   "source": [
    "# RANDOM FOREST \n",
    "\n",
    "from sklearn.ensemble import RandomForestClassifier\n",
    "i=1 \n",
    "kf = StratifiedKFold(n_splits=5,random_state=1,shuffle=True) \n",
    "for train_index,test_index in kf.split(X1,y1):     \n",
    "    print('\\n{} of kfold {}'.format(i,kf.n_splits))     \n",
    "    xtr,xvl = X1.loc[train_index],X1.loc[test_index]     \n",
    "    ytr,yvl = y1.loc[train_index],y1.loc[test_index]         \n",
    "    model = RandomForestClassifier(random_state=1, max_depth=10)     \n",
    "    model.fit(xtr, ytr)     \n",
    "    pred_test = model.predict(xvl)     \n",
    "    score = accuracy_score(yvl,pred_test)     \n",
    "    print('accuracy_score',score)     \n",
    "    i+=1 \n",
    "\n",
    "pred_test = model.predict(test)\n",
    "pred = model.predict_proba(xvl)[:,1]"
   ]
  },
  {
   "cell_type": "markdown",
   "metadata": {},
   "source": [
    "Accuracy score is 78.9%."
   ]
  },
  {
   "cell_type": "markdown",
   "metadata": {},
   "source": [
    "Let us check which feature has the highest importance in finding the Loan_Status. we will use feature_importances_sttribute of sklearn to do this."
   ]
  },
  {
   "cell_type": "code",
   "execution_count": 113,
   "metadata": {},
   "outputs": [
    {
     "data": {
      "text/plain": [
       "<matplotlib.axes._subplots.AxesSubplot at 0x1ed0e85b048>"
      ]
     },
     "execution_count": 113,
     "metadata": {},
     "output_type": "execute_result"
    },
    {
     "data": {
      "image/png": "[encoded data removed]",
      "text/plain": [
       "<Figure size 864x576 with 1 Axes>"
      ]
     },
     "metadata": {
      "needs_background": "light"
     },
     "output_type": "display_data"
    }
   ],
   "source": [
    "importances = pd.Series(model.feature_importances_,index=X1.columns)\n",
    "importances.plot(kind='barh',figsize=(12,8))"
   ]
  },
  {
   "cell_type": "markdown",
   "metadata": {},
   "source": [
    "According to this the top features for this problem are 'Credit_History' - which is the most important,  'Total_Income',  'EMI',  'Balance_Income'."
   ]
  }
 ],
 "metadata": {
  "kernelspec": {
   "display_name": "Python 3",
   "language": "python",
   "name": "python3"
  },
  "language_info": {
   "codemirror_mode": {
    "name": "ipython",
    "version": 3
   },
   "file_extension": ".py",
   "mimetype": "text/x-python",
   "name": "python",
   "nbconvert_exporter": "python",
   "pygments_lexer": "ipython3",
   "version": "3.7.3"
  }
 },
 "nbformat": 4,
 "nbformat_minor": 2
}
